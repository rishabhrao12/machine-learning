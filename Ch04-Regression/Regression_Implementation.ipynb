{
 "cells": [
  {
   "attachments": {},
   "cell_type": "markdown",
   "metadata": {},
   "source": [
    "# Regression: Model Implementations\n",
    "\n",
    "This notebook is for the hard coded implementation of the various regression models without using the machine learning libraries like scikit-learn. The goal is to understand the workings of the model and visualise its decision boudary and learning process step by step in each iteration. We will also look into optimisation of these algorithms in this notebook.\n",
    "\n",
    "Models we will look into are: -\n",
    "\n",
    "1. **Linear Regression:** fitting linear relationship\n",
    "* Batch Gradient Descent\n",
    "* Stochastic Gradient Descent\n",
    "* Mini-Batch Gradient Descent\n",
    "\n",
    "2. **Polynomial Regression:** fitting second order curve\n",
    "\n",
    "3. **Regularised Models:** regularising model (prevent overfitting)\n",
    "* Ridge Regression\n",
    "* Lasso Regression\n",
    "* ElasticNet\n"
   ]
  },
  {
   "cell_type": "code",
   "execution_count": null,
   "metadata": {},
   "outputs": [],
   "source": []
  }
 ],
 "metadata": {
  "language_info": {
   "name": "python"
  },
  "orig_nbformat": 4
 },
 "nbformat": 4,
 "nbformat_minor": 2
}
