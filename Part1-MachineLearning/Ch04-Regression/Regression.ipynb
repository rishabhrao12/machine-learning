{
 "cells": [
  {
   "attachments": {},
   "cell_type": "markdown",
   "metadata": {},
   "source": [
    "# Regression\n",
    "\n",
    "Regression is a supervised learning task similar to classification. The major distinction between the two is that regression is (in most cases) used to predict a target variable which is continuous. An example problem would be of trying to predict the real estate price of a house based on features like the number of bathrooms, the distance from the highway e.t.c. This notebook focuses both on how to use premade models that will automatically find the values of the parameters, and on how to create implementations of algorithms that you can create as the user to find out how the models work under the hood.\n",
    "\n",
    "In this notebook the following topics will be covered: -\n",
    "\n",
    "1. Linear Regression\n",
    "2. Gradient Descent\n",
    "3. Polynomial Regression\n",
    "4. Learning Curves\n",
    "5. Regularised Linear Models\n",
    "6. Logistic Regression\n",
    "\n",
    "\n",
    "## 1. Linear Regression\n",
    "\n",
    "A simple linear regression problem is very easy to understand. As stated earlier, regression is used to predict target values which are continuous. For example predicting the value of a house.\n",
    "\n",
    "A linear model makes a prediction simply by computing a weighted sum of the input features, in addition to a bias term (called an intercept). A linear model hence has the same equation of that of the slope of the line equation (y = mx + c). This is because the logic of a linear model is to create a line that best fits the data, i.e. straight line that goes through most of the data.\n",
    "<br>\n",
    "\n",
    "$\\hat{y} = \\theta_{0}  + \\theta_{1}x_{1} + \\theta_{2}x_{2} + .. + \\theta_{n}x_{n}$\n",
    "<br>\n",
    "\n",
    "In this equation:\n",
    "* $\\hat{y}$ is the predicted value\n",
    "* n is the number of features\n",
    "* $x_{i}$ is the ith feature variable\n",
    "* $\\theta_{j}$ is the jth model parameter (including the bias term $\\theta_{0}$ and the feature weights $\\theta_{1}, \\theta_{2}$...)\n",
    "\n",
    "This can be written in a much simpler fashion using vectorized form:\n",
    "\n",
    "<br>\n",
    "\n",
    "$\\hat{y} = h_{\\theta}(x) = \\theta.x$\n",
    "\n",
    "<br>\n",
    "\n",
    "In this equation:\n",
    "\n",
    "* $\\theta$ is the models parameter vector containing the bias term $\\theta_{0}$ and the feature vectors $\\theta_{1}$ to $\\theta_{n}$\n",
    "* $x$ is the instance features vector containing $x_{0}$ to $x_{n}$ with $x_{0}$ always equal to 1.\n",
    "* $\\theta.x$ is the dot product of vectors \\theta and x which is of course equal to $\\theta_{0}x_{0}  + \\theta_{1}x_{1} + \\theta_{2}x_{2} + .. + \\theta_{n}x_{n}$\n",
    "* $h_{\\theta}$ is the hypothesis function, using the model parameters $\\theta$\n",
    "\n",
    "\n",
    "This is the lineaar regression model. TO train it we set its parameters so that the model best fits the training set. We need a measure of how well the model performs so that we can tell whether it is improving or not. For lassification we used metrics like Accuracy, F1, Precision, Recall ..., for Regression we will be using errors like MSE (mean squared error), RMSE (root mean squared error) e.t.c. TO train a Linear Regression Model we need to find te value of $\\theta$ that minimises the RMSE. It is actually simpler to minimise the MSE than the RMSE and it leads to the same result. MSE is calculated in the following manner.\n",
    "\n",
    "<br>\n",
    "\n",
    "$MSE (X, h_{\\theta}$) =  $\\frac{1}{m}$ * $\\sum \\limits _{i=1} ^ {m}$ ($\\theta^T {x^i} - {y^i})^2$\n",
    "\n",
    "<br>\n",
    "\n",
    "To simply understand it, MSE is where we first find the error for each entry that is every y_true - y_pred, we then square this error and find the mean of these errors.\n",
    "\n",
    "### 1.1 Normal Equation\n",
    "\n",
    "To find the value of $\\theta$ that minimises the cost function there is a closed form solution - in other words, a mathematical equation that gives the result directly. This is called a normal equation.\n",
    "\n",
    "<br>\n",
    "\n",
    "$h_{\\theta} = {({X^T}X)^{-1}} X^T y$\n",
    "\n",
    "<br>\n",
    "\n",
    "Eq:\n",
    "* $\\hat{\\theta}$ is the value of $\\theta$ that minimises the cost function\n",
    "* $y$ is the vector of target values containing $y_{1}$ to $y_{m}$\n",
    "\n",
    "To test this equation we will generate some linear looking data:"
   ]
  },
  {
   "cell_type": "code",
   "execution_count": 1,
   "metadata": {},
   "outputs": [
    {
     "data": {
      "text/plain": [
       "<matplotlib.collections.PathCollection at 0x7f7d790295b0>"
      ]
     },
     "execution_count": 1,
     "metadata": {},
     "output_type": "execute_result"
    },
    {
     "data": {
      "image/png": "[encoded data removed]",
      "text/plain": [
       "<Figure size 432x288 with 1 Axes>"
      ]
     },
     "metadata": {
      "needs_background": "light"
     },
     "output_type": "display_data"
    }
   ],
   "source": [
    "import numpy as np\n",
    "import matplotlib.pyplot as plt\n",
    "\n",
    "X = 2 * np.random.rand(100, 1)\n",
    "y = 4 + 3 * X + np.random.randn(100, 1)\n",
    "\n",
    "plt.scatter(X, y)"
   ]
  },
  {
   "attachments": {},
   "cell_type": "markdown",
   "metadata": {},
   "source": [
    "Now we will compute $\\hat{\\theta}$ using the Normal equation. We will use inv() function from NumPy linear algerba model to compute the inverse of matrix, and the dot method for matrix multiplication."
   ]
  },
  {
   "cell_type": "code",
   "execution_count": 2,
   "metadata": {},
   "outputs": [],
   "source": [
    "X_b = np.c_[np.ones((100, 1)), X] # adds x0 = 1 to each instance\n",
    "theta_best = np.linalg.inv(X_b.T.dot(X_b)).dot(X_b.T).dot(y)"
   ]
  },
  {
   "attachments": {},
   "cell_type": "markdown",
   "metadata": {},
   "source": [
    "The function that we used to generate the data is $y = 4 + 3x_{1} +$ Gaussian noise."
   ]
  },
  {
   "cell_type": "code",
   "execution_count": 3,
   "metadata": {},
   "outputs": [
    {
     "data": {
      "text/plain": [
       "array([[4.05427354],\n",
       "       [2.92167107]])"
      ]
     },
     "execution_count": 3,
     "metadata": {},
     "output_type": "execute_result"
    }
   ],
   "source": [
    "theta_best"
   ]
  },
  {
   "attachments": {},
   "cell_type": "markdown",
   "metadata": {},
   "source": [
    "As seen above the model did not find the exact values instead it came quite close. In an ideal scenario we would have gotten values as 4 and 3. The reason we couldnt find it exactly was because of the noise.\n",
    "\n",
    "Now to make predictions using $\\hat{\\theta}$:"
   ]
  },
  {
   "cell_type": "code",
   "execution_count": 4,
   "metadata": {},
   "outputs": [
    {
     "data": {
      "text/plain": [
       "array([[4.05427354],\n",
       "       [9.89761568]])"
      ]
     },
     "execution_count": 4,
     "metadata": {},
     "output_type": "execute_result"
    }
   ],
   "source": [
    "X_new = np.array([[0],[2]])\n",
    "X_new_b = np.c_[np.ones((2, 1)), X_new] # adds x0 = 1 to each instance\n",
    "y_predict = X_new_b.dot(theta_best)\n",
    "y_predict"
   ]
  },
  {
   "cell_type": "code",
   "execution_count": 5,
   "metadata": {},
   "outputs": [
    {
     "data": {
      "image/png": "[encoded data removed]",
      "text/plain": [
       "<Figure size 432x288 with 1 Axes>"
      ]
     },
     "metadata": {
      "needs_background": "light"
     },
     "output_type": "display_data"
    }
   ],
   "source": [
    "plt.plot(X_new, y_predict, 'r-')\n",
    "plt.plot(X, y, \"b.\")\n",
    "plt.axis([0, 2, 0, 15])\n",
    "plt.show()"
   ]
  },
  {
   "attachments": {},
   "cell_type": "markdown",
   "metadata": {},
   "source": [
    "Performing Linear Regression using Scikit-Learn is simple:"
   ]
  },
  {
   "cell_type": "code",
   "execution_count": 6,
   "metadata": {},
   "outputs": [
    {
     "data": {
      "text/plain": [
       "(array([4.05427354]), array([[2.92167107]]))"
      ]
     },
     "execution_count": 6,
     "metadata": {},
     "output_type": "execute_result"
    }
   ],
   "source": [
    "from sklearn.linear_model import LinearRegression\n",
    "model = LinearRegression()\n",
    "model.fit(X, y)\n",
    "model.intercept_, model.coef_"
   ]
  },
  {
   "attachments": {},
   "cell_type": "markdown",
   "metadata": {},
   "source": [
    "Model also approximated almost the same values"
   ]
  },
  {
   "cell_type": "code",
   "execution_count": 7,
   "metadata": {},
   "outputs": [
    {
     "data": {
      "text/plain": [
       "array([[4.05427354],\n",
       "       [9.89761568]])"
      ]
     },
     "execution_count": 7,
     "metadata": {},
     "output_type": "execute_result"
    }
   ],
   "source": [
    "model.predict(X_new)"
   ]
  },
  {
   "attachments": {},
   "cell_type": "markdown",
   "metadata": {},
   "source": [
    "The linear regression callss is based on scipy.linalg.lstsq() which stands for least squares (that is the method used to find param values)\n",
    "\n",
    "### 1.2 Computation Complexity\n",
    "\n",
    "The normal equation computes the inverse of $X^TX$ which is an (n + 1) x (n + 1) matrix (where n is the number of featyres). The computational complexity of inverting such a matrix is $O(n^{2.4})$ to $O(n^{3})$, depending on the implementation. In other words if you double the number of features you multiply the computational time by $2^2.4 = 5.3$ to $2^3 = 8$\n",
    "\n",
    "The SVD approach used by sklearn LinearRegression class is about $On^{2}$. If you double the number of features you multiply the computational time by roughly 4.\n",
    "\n",
    "Both normal and SVD get slow as features grow large. But on a poitive side both are linear with regard to the number of instances in the training set (O(m)) so they handle large training sets efficiently provided they can fit in memory.\n",
    "\n",
    "Once the model is trained, predictions are very fast, predictions on twice as many instances or features will takes twice as much time.\n",
    "\n",
    "We will now learn how to train a Linear Regression model which is better suited for cases where there are a large number of features or too many training instances to fit in memory.\n",
    "\n",
    "\n",
    "## 2. Gradient Descent\n",
    "\n",
    "Gradient Descent is a generic optimization algorithm capable of finding optimum solutions to a wide range of problems. The general idea of gradient descent is to tweak parameters iteratively in order to minimize a cost function.\n",
    "\n",
    "As an example if you are at the top of a hill and it is surrounded by fog and you can only feel the slope of the ground under your feet, you will keep walking downhill in the direction of the steepest slope. This is exactly what Gradient Descent does: it measures the local gradient of the error function with regard to the parameter vector $\\theta$, and it goes in the direction of descending gradient. Once the gradient is zero you have reached a minimum.\n",
    "\n",
    "Concretely you start by filling $\\theta$ with random values (called random intialisation). Then you improve it gradually taking one step at a time each attempting to decrease the cost function until the algorithm converges to a minimum.\n",
    "\n",
    "<br>\n",
    "<center><img src=\"https://cdn-images-1.medium.com/max/1600/0*fU8XFt-NCMZGAWND.\" alt=\"Gradient Descent\" width=300></center>\n",
    "<br>\n",
    "\n",
    "An important parameter in Gradient Descent is the size of the steps, determing by the **learning rate** parameter. If learning rate is too small, the algorithm will have to go through several iterations to converge which will take a long time. On the other hand if the learning rate is too high, you might jump cross the valley and end up even higher than before. This might make the algorithm diverge with larger and larger values failing to find a good solution\n",
    "\n",
    "<br>\n",
    "<center><img src=\"https://i.stack.imgur.com/au77i.png\" alt=\"Gradient Descent\" height=300></center>\n",
    "<br>\n",
    "\n",
    "Not all cost functions look like regular bowls as seen above instead there may be holes, ridges, plateaus and all sorts of irregularities which makes convergence to minimum difficult. Sometimes you could end up findind the local minimum which is not the same as the global minimum and you could also end up stopping thw iterative process before finding the global minimum.\n",
    "\n",
    "<br>\n",
    "<center><img src=\"https://www.i2tutorials.com/wp-content/media/2019/09/Neural-network-32-i2tutorials.png\" alt=\"Gradient Descent\" height=300></center>\n",
    "<br>\n",
    "\n",
    "Fortunately the MSE cost function for Linear Regression model happens tp be a covex function which means that if you pick any two points on the curve the line segment joining the two points never crosses the curve. This implies that there are no local minimum only one global minimum.It is also a continuous function with a slope that never changes abruptly. These two facts have a major consequence, that is Gradient Descent is guarenteed to approach arbitarily close to the global minimum (if enough iterations, and learning rate is not too high)\n",
    "\n",
    "The cost function has the shape of a bowl, but it can be an elongated bowl if features have different scales. \n",
    "\n",
    "<br>\n",
    "<center><img src=\"https://www.oreilly.com/api/v2/epubs/9781491962282/files/assets/mlst_0406.png\" alt=\"Gradient Descent\" height=300></center>\n",
    "<br>\n",
    "\n",
    "The left one reaches it quickly as it goes straight to the minimum and the right one without the scaling does not do the same rather it goes in an almost orthogonal direction compared to the global minimum. It will reach the global minimum but it will take a long time.\n",
    "\n",
    "Therefore it is important to use a scaler (sklearn StandardScaler) to ensure features all have a similar scale before fitting the data.\n",
    "\n",
    "This also illustrates the fact that training a model means searching for a combination of model parameters that minimises a cost function (over the training set). It is a search in the models parameter space. The more parameters a model has the more dimensions the space has, and the harder the search is.\n",
    "\n",
    "### 2.1 Batch Gradient Descent\n",
    "\n",
    "To implement Gradient descent you need to compute the gradient of cost function with regard to each model paramter $\\theta_{j}$. Simply put you need to calculate how much the cost fucntion will change if you change $\\theta_{j}$ a little bit. This is called partial derivative. Taking the previous mountain slope example, it is like asking what is slope if you face east, and then the same for north, south ... and so on for all dimensions depending in the scenario. The following equation computes the cost function with regard to parameter $\\theta_{j}$ noted $\\frac{\\partial{MSE(\\theta)}}{\\partial{\\theta_{j}}}$.\n",
    "\n",
    "<br>\n",
    "\n",
    "$\\frac{\\partial{MSE(\\theta)}}{\\partial{\\theta_{j}}} = \\frac{2}{m}\\sum \\limits_{i=1}^{m} (\\theta^Tx^{(i)}-y^{(i)})x_{j}^{(i)}$\n",
    "\n",
    "<br>\n",
    "\n",
    "Instead of computing these partial derivates individually you can compute them all in one go. The gradient vector noted $\\nabla_{\\theta}MSE(\\theta)$, contains all the partial derivates of the cost function (one for each model parameter).\n",
    "\n",
    "<br>\n",
    "\n",
    "$\\nabla_{\\theta}MSE(\\theta) = [\\frac{\\partial{MSE(\\theta)}}{\\partial{\\theta_{0}}} + \\frac{\\partial{MSE(\\theta)}}{\\partial{\\theta_{1}}} + .. \\frac{\\partial{MSE(\\theta)}}{\\partial{\\theta_{n}}}] = \\frac{2}{m}X^T(\n",
    "X\\theta - y)$\n",
    "\n",
    "<br>\n",
    "\n",
    "Note: Remember that this formula includes the calculations over the full training set X at each Gradient Descent Step. This is why the training algorithm is called Batch Gradient Descent, it uses the whole batch of training data at every step (Full Gradient Descent is a more apt name). This is as a result very slow on large training sets. However Gradient Descent scales well with the number of features; training a Linear Regression model when there are hundreds of thousands of features is much faster using Gradient Descent than using the Normal Equation or SVD decomposition.\n",
    "\n",
    "Once you have the gradient vector which points uphill just go in the opposite direction to go downhill that meas subtract $\\nabla_{\\theta}MSE(\\theta)$ from $\\theta$.\n",
    "\n",
    "This is where learning rate $\\eta$ is important: multiply the gradient vector by $\\eta$ to determine the size of the downhill step.\n",
    "\n",
    "$\\theta^{(next step)} = \\theta - \\eta\\nabla_{\\theta}MSE(\\theta)$\n",
    "\n",
    "To implement this in python.\n"
   ]
  },
  {
   "cell_type": "code",
   "execution_count": 8,
   "metadata": {},
   "outputs": [
    {
     "data": {
      "text/plain": [
       "array([[4.05427354],\n",
       "       [2.92167107]])"
      ]
     },
     "execution_count": 8,
     "metadata": {},
     "output_type": "execute_result"
    }
   ],
   "source": [
    "eta = 0.1 # learning rate\n",
    "n_iterations = 1000\n",
    "m = 100\n",
    "\n",
    "theta = np.random.randn(2, 1)   # random initialisation\n",
    "\n",
    "for iteration in range(n_iterations):\n",
    "    gradients = 2/m * X_b.T.dot(X_b.dot(theta) - y)\n",
    "    theta = theta - eta * gradients\n",
    "\n",
    "theta"
   ]
  },
  {
   "attachments": {},
   "cell_type": "markdown",
   "metadata": {},
   "source": [
    "This result is exactly what the normal equation found. Gradient Descent therefore worked perfectly.\n",
    "\n",
    "To find a good learinng rate you can use grid search. However it is a good decision to limit the number of iterations so that grid search can eliminate models that take too long to converge.\n",
    "\n",
    "To know how many iterations to use, it is good practice to set a large number of iterations and to interrupt the algorithm when the gradient vector becomes very tiny ie the norm becomes smaller than a tiny number $\\epsilon$ called the tolerance, this happens when Gradient Descent has almost reached the minimum.\n",
    "\n",
    "When the cost function is convex and its slope does not change abrptly (as is the case for MSE cost function), Batch Gradient Descent with a fixed learning rate will eventually converge to the optimal solution but you may have to wait a while $O(1/\\epsilon)$ iterations to reach the optimum within a range of $\\epsilon$, depending on the shape of the cost function. If you divide the tolerance by 10 to have a more precise solution the algorithm may have to run about 10 times longer.\n",
    "\n",
    "### 2.2 Stochastic Gradient Descent\n",
    "\n",
    "The main problem with Batch Gradient Descent is that it uses the whole training set to compute the gradients at every step, which makes it very slow when the set is large. Stochastic gradient Descent is on the opposite extreme, it takes a random instance every step of the way and computes the gradients for that step on just that single instance. This makes it uch faster as it needs to load only one instance in memory. It is also makes it possible to train on large training sets.\n",
    "\n",
    "Due its stochastic (random) nature it does not smoothly go towards the minimum but will instad go up and down, however it will reduce on an average, even once it reaches the minimum it will continue to bounce around. The final values hence are good but not optimal.\n",
    "\n",
    "When the cost function is ery irregular this helps as the algorithm will jump ourt of the local minima so Stochastic Gradient Descent has a better chance of finding global minima than Batch Descent.\n",
    "\n",
    "The randomness therefore is good to escape local minima but hard to reach a optimal solution. To counter this we can change the learning rate, by using a large learning rate in the beginning to escape from local minmium and a smaller one as time passes on to reach an optimum solution, The function that determines the learning rate is called the learning schedule.\n",
    "\n",
    "To implement stochastic gradient descent."
   ]
  },
  {
   "cell_type": "code",
   "execution_count": 9,
   "metadata": {},
   "outputs": [
    {
     "data": {
      "text/plain": [
       "array([[4.09017657],\n",
       "       [2.91327529]])"
      ]
     },
     "execution_count": 9,
     "metadata": {},
     "output_type": "execute_result"
    }
   ],
   "source": [
    "n_epochs = 50\n",
    "t0, t1 = 5, 50  # learning schedule hyperparameters\n",
    "\n",
    "def learning_schedule(t):\n",
    "    return t0 / (t + t1)\n",
    "\n",
    "theta = np.random.randn(2, 1)  # random initialisation\n",
    "\n",
    "for epoch in range(n_epochs):\n",
    "    for i in range(m):\n",
    "        random_index = np.random.randint(m)\n",
    "        xi = X_b[random_index:random_index+1]\n",
    "        yi = y[random_index:random_index+1]\n",
    "        gradients = 2 * xi.T.dot(xi.dot(theta) - yi)\n",
    "        eta = learning_schedule(epoch * m + i)\n",
    "        theta = theta - eta * gradients\n",
    "\n",
    "theta"
   ]
  },
  {
   "attachments": {},
   "cell_type": "markdown",
   "metadata": {},
   "source": [
    "We iterate by rounds of m iterations, each round is called an epoch. While the Batch gradient Descent code iterated 1000 times through the whole training ser. This code goes through it 50 times and reaches a pretty good solution.\n",
    "\n",
    "It is important to remember that since instances are piocked randomly some instances may be picked multiple timesper epoch while other may not be picked. Be sure that algorithm goe through every instance at each epoch or shuffle the training set. Then go through instance by instance and shuffle it again.\n",
    "\n",
    "To perform linear regression using stochastic gd use the SGDRegressor class of sklearn which defaults to optimising the squared error cost function. The following implemntation does not use any regularisation (penalty=None)"
   ]
  },
  {
   "cell_type": "code",
   "execution_count": 10,
   "metadata": {},
   "outputs": [
    {
     "data": {
      "text/plain": [
       "(array([3.96528224]), array([2.85201897]))"
      ]
     },
     "execution_count": 10,
     "metadata": {},
     "output_type": "execute_result"
    }
   ],
   "source": [
    "from sklearn.linear_model import SGDRegressor\n",
    "sgd_reg = SGDRegressor(max_iter=1000, tol=1e-3,penalty=None, eta0=0.1)\n",
    "# eta0 - starting learning rate, tol - will run till loss drops below this value\n",
    "sgd_reg.fit(X, y.ravel())\n",
    "sgd_reg.intercept_, sgd_reg.coef_"
   ]
  },
  {
   "attachments": {},
   "cell_type": "markdown",
   "metadata": {},
   "source": [
    "### 2.3 Mini-Batch Gradient Descent\n",
    "\n",
    "Mini batch gradient descent is like a combination of the previous two gradient descents. Unlike SGD mini batch gradient descent trains on small random sets of instances of the data at every step, these are called mini-batches. The main advantage of SGD is that they can get a performance boost from hardware optimisation of matrix operations especially while using GPUs.\n",
    "\n",
    "Algorithms progress in parameter space is less erratic than with SGD. However mini-batch finds it harder to escape the local minima and cotinues to walk around even after reaching solution space. Must remember that this can be overcome by using a good learning schedule.\n",
    "\n",
    "<br>\n",
    "<center><img src=\"https://miro.medium.com/max/1400/1*9calCrrqS9opiytuA--7AA.png\" alt=\"Comparison Plot\" height=300></center>\n",
    "<br>\n",
    "\n",
    "A comparison of algorithms would be as follows: -\n",
    "\n",
    "<br>\n",
    "<center><img src=\"https://pic4.zhimg.com/v2-b921c7e730e0578e3fd0322ef9d0d53b_b.jpg\" alt=\"Comparison\" height=300></center>\n",
    "<br>\n",
    "\n",
    "\n",
    "## 3. Polynomial Regression\n",
    "\n",
    "There are certain scenarios where your datas feature variables and target variable do not have a linear realtionship, rather the data could be plotted as a curve. In this scenarios we cannot use a linear solution, however we could change a linear model in such a way to work with non-linear data. This can be done simply by adding powers of each feature as new features, then training a linear model on this extended set of features. This technique is called Polynomial Regression.\n",
    "\n",
    "For example:\n",
    "$\\hat{y} = \\theta_{0} + \\theta_{1}x_{1} + \\theta_{2}x_{1}^2 + ... + \\theta_{n}x_{1}^n$\n",
    "\n",
    "Generating some non-linear data using a quadratic equation and some noise."
   ]
  },
  {
   "cell_type": "code",
   "execution_count": 12,
   "metadata": {},
   "outputs": [
    {
     "data": {
      "text/plain": [
       "<matplotlib.collections.PathCollection at 0x7f7d5a423910>"
      ]
     },
     "execution_count": 12,
     "metadata": {},
     "output_type": "execute_result"
    },
    {
     "data": {
      "image/png": "[encoded data removed]",
      "text/plain": [
       "<Figure size 432x288 with 1 Axes>"
      ]
     },
     "metadata": {
      "needs_background": "light"
     },
     "output_type": "display_data"
    }
   ],
   "source": [
    "m = 100\n",
    "X = 6 * np.random.rand(m, 1) - 3\n",
    "y = 0.5 * X ** 2 + X + 2 +np.random.randn(m, 1)\n",
    "plt.scatter(X, y)"
   ]
  },
  {
   "attachments": {},
   "cell_type": "markdown",
   "metadata": {},
   "source": [
    "As observed a straight line cant fit this data properly, so we will use Scikit-Learns PolynomialFeatures class to transform our training data, adding the square (second degree polynomial) of each feature in the training set as a new feature."
   ]
  },
  {
   "cell_type": "code",
   "execution_count": 13,
   "metadata": {},
   "outputs": [
    {
     "data": {
      "text/plain": [
       "(array([-2.82966936]), array([-2.82966936,  8.00702871]))"
      ]
     },
     "execution_count": 13,
     "metadata": {},
     "output_type": "execute_result"
    }
   ],
   "source": [
    "from sklearn.preprocessing import PolynomialFeatures\n",
    "poly_features = PolynomialFeatures(degree=2, include_bias=False)\n",
    "X_poly = poly_features.fit_transform(X)\n",
    "X[0], X_poly[0]"
   ]
  },
  {
   "attachments": {},
   "cell_type": "markdown",
   "metadata": {},
   "source": [
    "X_poly now contains the original feature of X plus the square of this feature. Now you can fit a Linear Regression model to this extended training data."
   ]
  },
  {
   "cell_type": "code",
   "execution_count": 14,
   "metadata": {},
   "outputs": [
    {
     "data": {
      "text/plain": [
       "(array([2.12370305]), array([[1.01270211, 0.46098737]]))"
      ]
     },
     "execution_count": 14,
     "metadata": {},
     "output_type": "execute_result"
    }
   ],
   "source": [
    "lin_reg_poly = LinearRegression()\n",
    "lin_reg_poly.fit(X_poly, y)\n",
    "lin_reg_poly.intercept_, lin_reg_poly.coef_"
   ]
  },
  {
   "attachments": {},
   "cell_type": "markdown",
   "metadata": {},
   "source": [
    "Model estimates $\\hat{y} = 0.46x_{1}^2 + 1.01x_{1} + 2.12$ when the actual function was $y = 0.5x_{1}^2 + 1.0x_{1} + 2.0 + $ Gaussian noise\n",
    "\n",
    "**NOTE IMP:** When there are multiple features Polynomial Regression is capable of finding relationships between features which is something a plain Linear Regression mode cannot do. This is made possible by the fac that PolynomialFeatures also adds all combinations of features upto the given degree. For example if there were two features a, b, Polynomial Featurs with degree 3 would not only add the features $a^{2}, a^{3}, b^{2}, b^{3}$, but also all the combinations $ab, a^2b, ab^2$\n",
    "\n",
    "PolynomialFeatures (degree=d) transforms an array containing n features into an array containing $\\frac{(n+d)!}{d!n!}$ where $n!$ is the factorial of n = 1 x 2 x .. x n. As a result there will be a large number of combinations which could make this model slow.\n",
    "\n",
    "\n",
    "## 4. Learning Curves\n",
    "\n",
    "If you perform a very high degree polynomial regression then the model will fit to the data in a much better manner the problem however is that there is a very high chance of overfitting. When a model overfits it performs well on training data but poorly on test data i.e. the model has learnt the patterns of training data too well and cannot generalise well enough to unseen data.\n",
    "\n",
    "\n",
    "<br>\n",
    "<center><img src=\"https://www.researchgate.net/publication/339680577/figure/fig2/AS:865364518924290@1583330387982/llustration-of-the-underfitting-overfitting-issue-on-a-simple-regression-case-Data.png\" alt=\"Polynomial Regression Overfitting\" height=300></center>\n",
    "<br>\n",
    "\n",
    "\n",
    "We can use cross validation to find out performance of the model another method is to use learning curves: plots of the models performance on the training and validation set. To generate the plots we train the models several times on different sized subsets of training set. Implementation is as follows: -"
   ]
  },
  {
   "cell_type": "code",
   "execution_count": 24,
   "metadata": {},
   "outputs": [
    {
     "data": {
      "image/png": "[encoded data removed]",
      "text/plain": [
       "<Figure size 1440x720 with 1 Axes>"
      ]
     },
     "metadata": {
      "needs_background": "light"
     },
     "output_type": "display_data"
    }
   ],
   "source": [
    "from sklearn.metrics import mean_squared_error\n",
    "from sklearn.model_selection import train_test_split\n",
    "\n",
    "def plot_learning_curves(model, X, y):\n",
    "    X_train, X_val, y_train, y_val = train_test_split(X, y, test_size=0.2)\n",
    "    train_errors, val_errors = [], []\n",
    "    for m in range(1, len(X_train)):\n",
    "        model.fit(X_train[:m], y_train[:m])\n",
    "        y_train_pred = model.predict(X_train[:m])\n",
    "        y_val_pred = model.predict(X_val)\n",
    "        train_errors.append(mean_squared_error(y_train[:m], y_train_pred))\n",
    "        val_errors.append(mean_squared_error(y_val, y_val_pred))\n",
    "    plt.figure(figsize=(20, 10))\n",
    "    plt.plot(np.sqrt(train_errors), 'r-+', linewidth=2, label='train')\n",
    "    plt.plot(np.sqrt(val_errors), 'b-', linewidth=2, label='val')\n",
    "    plt.xlabel('Training set size')\n",
    "    plt.ylabel('RMSE')\n",
    "    plt.legend()\n",
    "    plt.show()\n",
    "\n",
    "\n",
    "lin_reg_model = LinearRegression()\n",
    "plot_learning_curves(lin_reg_model, X, y)"
   ]
  },
  {
   "attachments": {},
   "cell_type": "markdown",
   "metadata": {},
   "source": [
    "We can now analyse this plot, we can see that initially, when we have few training instances the train error is very low, as it must learn very less however validation error is high becuase it cannot generalise as we increase the instances eventually they both reach a plateau after which the performance does not seem to improve this is a good example of the model **underfitting** the data (since the curves have reached a plateau are close and fairly high). We need a more complex model to solve this."
   ]
  },
  {
   "cell_type": "code",
   "execution_count": 25,
   "metadata": {},
   "outputs": [
    {
     "data": {
      "image/png": "[encoded data removed]",
      "text/plain": [
       "<Figure size 1440x720 with 1 Axes>"
      ]
     },
     "metadata": {
      "needs_background": "light"
     },
     "output_type": "display_data"
    }
   ],
   "source": [
    "from sklearn.pipeline import Pipeline\n",
    "\n",
    "poly_reg = Pipeline([\n",
    "    ('poly_features', PolynomialFeatures(degree=10, include_bias=False)),\n",
    "    ('lin_reg', LinearRegression())\n",
    "    ])\n",
    "\n",
    "plot_learning_curves(poly_reg, X, y)"
   ]
  },
  {
   "attachments": {},
   "cell_type": "markdown",
   "metadata": {},
   "source": [
    "The error on training data is much lower and even the val error is a lot lower and plateaus, there is however a gap between curves which means the model is overfitting, using a larger dataset would help.\n",
    "\n",
    "\n",
    "A models generalisation error can be expressed as the sum of three very different errors: -\n",
    "1. Bias - this is error due to wrong assumptions, such as assuming model is linear when it is quadratic. A high bias model is likely to underfit data\n",
    "2. Variance - this is error due to models excessive sensitivity ti small variations in the training data. A model with many degrees of freedom (such as a high degree polynomial model) is likely to have a high variance and overfit the training data.\n",
    "3. Irreducible error - this is due to noisiness of the data itself. Only way to reduce this is to clean the data (eg fix the sources, remove outliers)\n",
    "\n",
    "Increasing a models complexity increases variance, a reduces bias and vice verse for reducing its complexity. Hence there is a tradeoff, where we need to reach a good middle ground, so that model does not overfit or underfit.\n",
    "\n",
    "\n",
    "## 5. Regularised Linear Models\n",
    "\n",
    "A good way to reduce overfitting is to regularise a model: tje fewer degrees of freedom it has the harder it will be for it to overfit the data. A simple way to regularise a polynomialmodel is to reduce the number of polynomial degrees.\n",
    "\n",
    "For a linear model regularisation is typically achieved by constraining the weights of the model.\n",
    "\n",
    "This section will be broken up into the following subsections: -\n",
    "1. Ridge Regression\n",
    "2. Lasso Regression\n",
    "3. Elastic Net\n",
    "4. Early Stopping\n",
    "\n",
    "\n",
    "### 5.1 Ridge Regression\n",
    "\n",
    "Ridge regression is a regularised version of Linear Regression: a regularisation term equal to $\\alpha\\sum \\limits_{i=1}^{n}\\theta_{i}^2$ is added to the cost function. This forces the learning algorithm to not only fit the data but also keep the model weights as small as possible. The regulairsation term should be added to the cost function only during training. once the model is trained, you want to use the unregularised performance measure to evaluate the models performance.\n",
    "\n",
    "It must be remembered that the cost function used during training be different from the performance measure used during testing. Apart from regularisation, this is done as the cost function should have optimisation friendly derivatives while the performance measure used for testing should be as close as possible to the final objective for example Classifiers are often trained using log loss cost function and are tested using precision/recall.\n",
    "\n",
    "The hyperparameter $\\alpha$ controls how much you want to regularise the model. If $\\alpha$ = 0 the Ridge Regression is just Linear Regression. If $\\alpha$  is very lage then all the weights end up close to zero and the result is a flat line going through the datas mean. The cost function for Ridge Regression is as follows: -\n",
    "\n",
    "$J(\\theta) = MSE(\\theta) + \\alpha\\frac{1}{2}\\sum \\limits_{i=1}^{n} \\theta_{i}^2 $\n",
    "\n",
    "The bias term $\\theta_{0}$ is not regularised (the sum starts at i=1, not 0). If we define w as the vector for feature weights ($\\theta_{1}$ to $\\theta_{n}$), then the regularisation is equal to $\\frac{1}{2}(|| w ||_{2})^2$ where $|| w ||_{2}$ represents the $\\ell_{2}$ norm of the weight vectors. For gradient descent just add $\\alpha w$ to the MSE gradient vector.?\n",
    "\n",
    "**NOTE:** Data should always be scaled using a StandardScaler before using regularised models as they are sensitive to the scale of the data.\n",
    "\n",
    "Using a plan ridge model will lead to linear predictions, if we expand data using polynomial features, then scale it using a standard scaler and then apply the ridge model, it is then polynomial regression with ridge regularisation. In this case increasing the $\\alpha$ as seen in example below leads to less extreme, more reasonable predictions. Our models bias increases ad variances falls, hence it is less susceptible to overfitting.\n",
    "\n",
    "<br>\n",
    "<center><img src=\"https://www.oreilly.com/api/v2/epubs/9781491962282/files/assets/mlst_0412.png\" alt=\"Ridge Regression Different alpha\" height=300></center>\n",
    "<br>\n",
    "\n",
    "As with Linear Regression we can perform Ridge Regression either by computing a closed form equation or by performing gradient Descent. The pros and cons are the same. The following is the closed form slution where $A$ is the (n + 1) x (n + 1) identity matrix except with a 0 in the top left cell corresponding to the bias term.\n",
    "\n",
    "$\\hat{\\theta} = (X^TX + \\alpha A)^{-1} X^T y $\n",
    "\n",
    "Implementation of closed form is as given below.\n"
   ]
  },
  {
   "cell_type": "code",
   "execution_count": 26,
   "metadata": {},
   "outputs": [
    {
     "data": {
      "text/plain": [
       "array([[5.29013548]])"
      ]
     },
     "execution_count": 26,
     "metadata": {},
     "output_type": "execute_result"
    }
   ],
   "source": [
    "from sklearn.linear_model import Ridge\n",
    "ridge_reg = Ridge(alpha=1, solver='cholesky')\n",
    "ridge_reg.fit(X, y)\n",
    "ridge_reg.predict([[1.5]])"
   ]
  },
  {
   "cell_type": "code",
   "execution_count": 28,
   "metadata": {},
   "outputs": [
    {
     "data": {
      "text/plain": [
       "array([5.29869121])"
      ]
     },
     "execution_count": 28,
     "metadata": {},
     "output_type": "execute_result"
    }
   ],
   "source": [
    "sgd_reg = SGDRegressor(penalty=\"l2\")\n",
    "sgd_reg.fit(X, y.ravel())\n",
    "sgd_reg.predict([[1.5]])"
   ]
  },
  {
   "attachments": {},
   "cell_type": "markdown",
   "metadata": {},
   "source": [
    "The penalty hyperpaameter stes the type of regularisation term to use. Specifying \"l2\" indicates that you want SGD to add a regularisatio term to the cost function equal to half the square of the $\\ell_{2}$ norm of the weight vetor: simply Ridge Regression.\n",
    "\n",
    "\n",
    "### 5.2 Lasso Regression"
   ]
  },
  {
   "cell_type": "code",
   "execution_count": null,
   "metadata": {},
   "outputs": [],
   "source": []
  }
 ],
 "metadata": {
  "kernelspec": {
   "display_name": "Python 3",
   "language": "python",
   "name": "python3"
  },
  "language_info": {
   "codemirror_mode": {
    "name": "ipython",
    "version": 3
   },
   "file_extension": ".py",
   "mimetype": "text/x-python",
   "name": "python",
   "nbconvert_exporter": "python",
   "pygments_lexer": "ipython3",
   "version": "3.9.6"
  },
  "orig_nbformat": 4,
  "vscode": {
   "interpreter": {
    "hash": "c21c860ba4f99eaf1f4c1d1bf1f659aaa3719ca3820e22e11ff4cdb72ac18dca"
   }
  }
 },
 "nbformat": 4,
 "nbformat_minor": 2
}
