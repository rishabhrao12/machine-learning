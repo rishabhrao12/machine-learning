{
 "cells": [
  {
   "attachments": {},
   "cell_type": "markdown",
   "metadata": {},
   "source": [
    "# Forecasting\n",
    "\n",
    "Forecasting is a common statistical task where we try to predict the future values based on past data. It helps to inform decisions about production, transportation and development.\n",
    "\n",
    "We can define forecasting in the following manner:-\n",
    "**Forecasting**: predicting the future as accuractely as possible, given all of the information available, including historical data and knowledge of any future data hthat might impact forecasts.\n",
    "\n",
    "Some things are easier to forecast compared to other things, the predictability of an event or a quantity depends on several factors: -\n",
    "1. How well we understand the factors that contribute to it.\n",
    "2. How much data is available.\n",
    "3. Whether the forecasts themselves can affect the thing we are trying to forecast.\n",
    "\n",
    "For example when trying to forecast open systems like the stock market it does not perform as well as our forecasts can themselves affect the data that we are trying to forecast.  If there are well-publicised forecasts that the exchange rate will increase, then people will immediately adjust the price they are willing to pay and so the forecasts are self-fulfilling. In a sense, the exchange rates become their own forecasts. This is an example of the “efficient market hypothesis”. \n",
    "\n",
    "Forecasts perform better in a closed system as compared to an open system.\n",
    "\n",
    "It is also imporant to know what to forecast for example in an inventory scenario you need to ask whether forecasts are needed for: -\n",
    "1. Every product line, or groups of products?\n",
    "2. Every sales outlet, or for outlets grouped by region, or total sales\n",
    "3. Weekly, monthly or annual data?\n",
    "\n",
    "#### What is Time series forecasting??\n",
    "\n",
    "Anything that is observed sequentially over time is a time series. Time series can be regularly spaced or irregularly spaced. Examples of time series data could be the following: Daily IBM stock prices, Monthly Rainfall, Quarterly sales results for Amazon, Annual Google Profits.\n",
    "\n",
    "When forecasting time series data, the goal is to estimate how the sequence of observations will continue in the future.\n",
    "\n",
    "#### Workflow\n",
    "\n",
    "A basic time series forecasting workflow could be as follows: -\n",
    "1. Problem Definition\n",
    "2. Gathering Information\n",
    "3. Preliminary Exploratory Analysis\n",
    "4. Choosing and fitting models\n",
    "5. Using and evaluating a forecasting model\n"
   ]
  },
  {
   "cell_type": "code",
   "execution_count": null,
   "metadata": {
    "collapsed": true
   },
   "outputs": [],
   "source": []
  }
 ],
 "metadata": {
  "kernelspec": {
   "display_name": "Python 3",
   "language": "python",
   "name": "python3"
  },
  "language_info": {
   "codemirror_mode": {
    "name": "ipython",
    "version": 2
   },
   "file_extension": ".py",
   "mimetype": "text/x-python",
   "name": "python",
   "nbconvert_exporter": "python",
   "pygments_lexer": "ipython2",
   "version": "3.9.6 (default, Aug 18 2021, 12:38:10) \n[Clang 10.0.0 ]"
  },
  "vscode": {
   "interpreter": {
    "hash": "c21c860ba4f99eaf1f4c1d1bf1f659aaa3719ca3820e22e11ff4cdb72ac18dca"
   }
  }
 },
 "nbformat": 4,
 "nbformat_minor": 0
}
