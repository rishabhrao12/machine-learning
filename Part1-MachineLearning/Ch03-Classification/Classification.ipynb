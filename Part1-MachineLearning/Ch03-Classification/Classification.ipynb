{
 "cells": [
  {
   "cell_type": "markdown",
   "metadata": {
    "collapsed": true,
    "pycharm": {
     "name": "#%% md\n"
    }
   },
   "source": [
    "# Classification\n",
    "\n",
    "Classification in a supervised learning task along with regression. It is used in predicting classes i.e. it is used to predict categorical data.\n",
    "In this notebook the following topics will be covered: -\n",
    "1. Using MNIST Dataset\n",
    "2. Training a Binary Classifier\n",
    "3. Performance Measures\n",
    "4. Multiclass Classification\n",
    "5. Error Analysis\n",
    "6. Multilabel Classification\n",
    "7. Multioutput Classification"
   ]
  },
  {
   "cell_type": "markdown",
   "source": [
    "## 1. Using MNIST Dataset\n",
    "\n",
    "The dataset we will be using for classification is the MNIST dataset, which is a set of 70,000 small images of handwritten digits. Each image is labelled with the digit it represents. This dataset is often used as a way of seeing how new classification algorithms perform.\n",
    "\n",
    "Scikit-Learn provides many helper functions to download popular datasets. MNIST is one of them. The following code fetches the MNIST dataset."
   ],
   "metadata": {
    "collapsed": false,
    "pycharm": {
     "name": "#%% md\n"
    }
   }
  },
  {
   "cell_type": "code",
   "execution_count": 1,
   "outputs": [
    {
     "data": {
      "text/plain": "dict_keys(['data', 'target', 'frame', 'categories', 'feature_names', 'target_names', 'DESCR', 'details', 'url'])"
     },
     "execution_count": 1,
     "metadata": {},
     "output_type": "execute_result"
    }
   ],
   "source": [
    "from sklearn.datasets import fetch_openml\n",
    "\n",
    "# Used to fetch data from openml using the name or dataset id\n",
    "mnist = fetch_openml('mnist_784', version=1)\n",
    "mnist.keys()"
   ],
   "metadata": {
    "collapsed": false,
    "pycharm": {
     "name": "#%%\n"
    }
   }
  },
  {
   "cell_type": "markdown",
   "source": [
    "Datasets loaded by Scikit learn generally have a similar dictionary structure, including the following:\n",
    "* A **DESCR** key describing the dataset\n",
    "* A **data** key containing an array with one row per instance and one column per feature\n",
    "* A **target** key containing an array with the labels."
   ],
   "metadata": {
    "collapsed": false,
    "pycharm": {
     "name": "#%% md\n"
    }
   }
  },
  {
   "cell_type": "code",
   "execution_count": 2,
   "outputs": [
    {
     "data": {
      "text/plain": "((70000, 784), (70000,))"
     },
     "execution_count": 2,
     "metadata": {},
     "output_type": "execute_result"
    }
   ],
   "source": [
    "X, y = mnist[\"data\"], mnist[\"target\"]\n",
    "X.shape, y.shape"
   ],
   "metadata": {
    "collapsed": false,
    "pycharm": {
     "name": "#%%\n"
    }
   }
  },
  {
   "cell_type": "markdown",
   "source": [
    "This shows that there are 70,000 images and each image has 784 features. This is because each image has 28 * 28 pixels, and each feature represents the pixels' intensity.\n",
    "To see one image we will need to plot it as if we use it normally it will only give us the numeric values."
   ],
   "metadata": {
    "collapsed": false,
    "pycharm": {
     "name": "#%% md\n"
    }
   }
  },
  {
   "cell_type": "code",
   "execution_count": 3,
   "outputs": [
    {
     "data": {
      "text/plain": "<matplotlib.image.AxesImage at 0x7fa3283f22e0>"
     },
     "execution_count": 3,
     "metadata": {},
     "output_type": "execute_result"
    },
    {
     "data": {
      "text/plain": "<Figure size 432x288 with 1 Axes>",
      "image/png": "[encoded data removed]"
     },
     "metadata": {
      "needs_background": "light"
     },
     "output_type": "display_data"
    }
   ],
   "source": [
    "import pandas as pd\n",
    "import numpy as np\n",
    "import matplotlib.pyplot as plt\n",
    "\n",
    "img = X.loc[0].to_numpy()\n",
    "img = img.reshape(28, 28)\n",
    "plt.imshow(img, cmap=\"binary\")"
   ],
   "metadata": {
    "collapsed": false,
    "pycharm": {
     "name": "#%%\n"
    }
   }
  },
  {
   "cell_type": "markdown",
   "source": [
    "This looks like a 5 and if we check our target it is indeed a 5"
   ],
   "metadata": {
    "collapsed": false,
    "pycharm": {
     "name": "#%% md\n"
    }
   }
  },
  {
   "cell_type": "code",
   "execution_count": 4,
   "outputs": [
    {
     "data": {
      "text/plain": "'5'"
     },
     "execution_count": 4,
     "metadata": {},
     "output_type": "execute_result"
    }
   ],
   "source": [
    "y[0]"
   ],
   "metadata": {
    "collapsed": false,
    "pycharm": {
     "name": "#%%\n"
    }
   }
  },
  {
   "cell_type": "markdown",
   "source": [
    "We need to convert this y to an integer in the following manner"
   ],
   "metadata": {
    "collapsed": false,
    "pycharm": {
     "name": "#%% md\n"
    }
   }
  },
  {
   "cell_type": "code",
   "execution_count": 5,
   "outputs": [
    {
     "data": {
      "text/plain": "5"
     },
     "execution_count": 5,
     "metadata": {},
     "output_type": "execute_result"
    }
   ],
   "source": [
    "y = y.astype(np.uint8)\n",
    "y[0]"
   ],
   "metadata": {
    "collapsed": false,
    "pycharm": {
     "name": "#%%\n"
    }
   }
  },
  {
   "cell_type": "markdown",
   "source": [
    "Let us now just create a function that we can use to view a random image from X"
   ],
   "metadata": {
    "collapsed": false,
    "pycharm": {
     "name": "#%% md\n"
    }
   }
  },
  {
   "cell_type": "code",
   "execution_count": 6,
   "outputs": [
    {
     "data": {
      "text/plain": "<Figure size 432x288 with 1 Axes>",
      "image/png": "[encoded data removed]"
     },
     "metadata": {
      "needs_background": "light"
     },
     "output_type": "display_data"
    }
   ],
   "source": [
    "import random\n",
    "\n",
    "def plot_random_digit():\n",
    "    num = random.randint(0, len(X))\n",
    "    random_img = X.loc[num].to_numpy()\n",
    "    random_img = random_img.reshape(28, 28)\n",
    "    plt.imshow(random_img, cmap=\"binary\")\n",
    "    plt.title(y[num])\n",
    "\n",
    "plot_random_digit()"
   ],
   "metadata": {
    "collapsed": false,
    "pycharm": {
     "name": "#%%\n"
    }
   }
  },
  {
   "cell_type": "markdown",
   "source": [
    "We need to now create our train and test set, MNIST already has shuffled the order for us normally this is not the case, and so we will have to do it ourselves however in this scenario we can use it directly.\n",
    "Shuffling is important as some learning algorithms are sensitive to the order of training instances and will perform poorly if they get many similar training instances in a row."
   ],
   "metadata": {
    "collapsed": false,
    "pycharm": {
     "name": "#%% md\n"
    }
   }
  },
  {
   "cell_type": "code",
   "execution_count": 7,
   "outputs": [
    {
     "data": {
      "text/plain": "(60000, 10000)"
     },
     "execution_count": 7,
     "metadata": {},
     "output_type": "execute_result"
    }
   ],
   "source": [
    "X_train, X_test, y_train, y_test = X[:60000], X[60000:], y[:60000], y[60000:]\n",
    "len(X_train), len(X_test)"
   ],
   "metadata": {
    "collapsed": false,
    "pycharm": {
     "name": "#%%\n"
    }
   }
  },
  {
   "cell_type": "markdown",
   "source": [
    "## 2. Training a Binary Classifier\n",
    "\n",
    "Let's simplify the problem for now and only try to identify one digit, for example the number 4. This 4 detector is an example of binary classification, capable of distinguishing between 2 classes, 4 and not-4.\n",
    "The target vector needs to first be updated."
   ],
   "metadata": {
    "collapsed": false,
    "pycharm": {
     "name": "#%% md\n"
    }
   }
  },
  {
   "cell_type": "code",
   "execution_count": 10,
   "outputs": [],
   "source": [
    "# This converts all values to either True or False depending on if it is 4\n",
    "y_train_4 = (y_train == 4)\n",
    "y_test_4 = (y_test == 4)"
   ],
   "metadata": {
    "collapsed": false,
    "pycharm": {
     "name": "#%%\n"
    }
   }
  },
  {
   "cell_type": "markdown",
   "source": [
    "Now we must choose a classifier and train it a good place tp start is with Stochastic Gradient Descent Classifier, using SciKit-Learn's **SGDClassifier** class.\n",
    "This classifier has the advantage of being capable of handling large datasets very efficiently. This is in part because SGD deals with training instances independently, one at a time\n",
    "(which also makes it suitable for online learning). We use it as follows: -"
   ],
   "metadata": {
    "collapsed": false,
    "pycharm": {
     "name": "#%% md\n"
    }
   }
  },
  {
   "cell_type": "code",
   "execution_count": 11,
   "outputs": [
    {
     "data": {
      "text/plain": "SGDClassifier(random_state=42)"
     },
     "execution_count": 11,
     "metadata": {},
     "output_type": "execute_result"
    }
   ],
   "source": [
    "from sklearn.linear_model import SGDClassifier\n",
    "\n",
    "# We use random state so that the results are reproducible\n",
    "sgd_clf = SGDClassifier(random_state=42)\n",
    "sgd_clf.fit(X_train, y_train_4)"
   ],
   "metadata": {
    "collapsed": false,
    "pycharm": {
     "name": "#%%\n"
    }
   }
  },
  {
   "cell_type": "markdown",
   "source": [
    "The SGD classifier relies on randomness during training and hence the name \"stochastic\".\n",
    "\n",
    "We can now use this model to detect images of 4."
   ],
   "metadata": {
    "collapsed": false,
    "pycharm": {
     "name": "#%% md\n"
    }
   }
  },
  {
   "cell_type": "code",
   "execution_count": 15,
   "outputs": [
    {
     "data": {
      "text/plain": "array([False])"
     },
     "execution_count": 15,
     "metadata": {},
     "output_type": "execute_result"
    }
   ],
   "source": [
    "img = X_train.loc[0]\n",
    "sgd_clf.predict([img])"
   ],
   "metadata": {
    "collapsed": false,
    "pycharm": {
     "name": "#%%\n"
    }
   }
  },
  {
   "cell_type": "markdown",
   "source": [
    "Let us visualise this models predictions by selecting an image at random, and plotting its prediction along with the actual label"
   ],
   "metadata": {
    "collapsed": false,
    "pycharm": {
     "name": "#%% md\n"
    }
   }
  },
  {
   "cell_type": "code",
   "execution_count": 23,
   "outputs": [
    {
     "data": {
      "text/plain": "<Figure size 432x288 with 1 Axes>",
      "image/png": "[encoded data removed]"
     },
     "metadata": {
      "needs_background": "light"
     },
     "output_type": "display_data"
    }
   ],
   "source": [
    "def plot_binary_prediction():\n",
    "    num = random.randint(0, len(X))\n",
    "    rand_img = X.loc[0]\n",
    "    img = rand_img.to_numpy()\n",
    "    img = img.reshape(28, 28)\n",
    "    y_4_pred = sgd_clf.predict([rand_img])\n",
    "    plt.imshow(img, cmap=\"binary\")\n",
    "    plt.title(f\"Actual Value: {y_train_4[num]}, Predicted Value: {y_4_pred[0]}\")\n",
    "\n",
    "plot_binary_prediction()"
   ],
   "metadata": {
    "collapsed": false,
    "pycharm": {
     "name": "#%%\n"
    }
   }
  },
  {
   "cell_type": "markdown",
   "source": [
    "## 3. Performance Measures\n",
    "\n",
    "Evaluating a classifier is significantly trickier than evaluating a regressor.\n",
    "This section will be broken up into the following subsections: -\n",
    "1. Measuring accuracy using cross-validation\n",
    "2. Confusion Matrix\n",
    "3. Precision and Recall and the Tradeoff\n",
    "4. The ROC Curve"
   ],
   "metadata": {
    "collapsed": false,
    "pycharm": {
     "name": "#%% md\n"
    }
   }
  },
  {
   "cell_type": "markdown",
   "source": [
    "### 3.1 Measuring accuracy using Cross-Validation\n",
    "\n",
    "A good way to evaluate a model is to use cross-validation. Sometimes you may need to have more control over the cross validation proess than what Scikit-Learn provides. In these cases, you can implement it yourself.\n",
    "The program for cross validation will be given as one of the resources in this chapter.\n",
    "\n",
    "For now, we will use the cross_val_score() function to evaluate our **SGDClassifier** model, using K-fold cross-validation with three folds. Remember that K-fold cross-validation means splitting the training set into K folds (3 in this case), then making predictions and evaluating them on each fold using a model trained on the remaining folds."
   ],
   "metadata": {
    "collapsed": false,
    "pycharm": {
     "name": "#%% md\n"
    }
   }
  },
  {
   "cell_type": "code",
   "execution_count": 24,
   "outputs": [
    {
     "data": {
      "text/plain": "array([0.9671 , 0.97645, 0.9687 ])"
     },
     "execution_count": 24,
     "metadata": {},
     "output_type": "execute_result"
    }
   ],
   "source": [
    "from sklearn.model_selection import cross_val_score\n",
    "# cv is the number of folds\n",
    "cross_val_score(sgd_clf, X_train, y_train_4, cv=3, scoring=\"accuracy\")"
   ],
   "metadata": {
    "collapsed": false,
    "pycharm": {
     "name": "#%%\n"
    }
   }
  },
  {
   "cell_type": "markdown",
   "source": [
    "The reason the accuracy is as high as it is, is because the dataset is very skewed. Most of the samples are not 4 and hence if the model always guesses not 4 ie False it will yet get a high accuracy.\n",
    "To prove this lets look at a very basic classifier that predicts everything in the not-4 class."
   ],
   "metadata": {
    "collapsed": false,
    "pycharm": {
     "name": "#%% md\n"
    }
   }
  },
  {
   "cell_type": "code",
   "execution_count": 25,
   "outputs": [
    {
     "data": {
      "text/plain": "array([0.90275, 0.9018 , 0.90335])"
     },
     "execution_count": 25,
     "metadata": {},
     "output_type": "execute_result"
    }
   ],
   "source": [
    "from sklearn.base import BaseEstimator\n",
    "\n",
    "class Never4Classifier(BaseEstimator):\n",
    "    def fit(self, X, y=None):\n",
    "        pass\n",
    "\n",
    "    def predict(self, X):\n",
    "        return np.zeros((len(X), 1), dtype=bool)\n",
    "\n",
    "never_4_clf = Never4Classifier()\n",
    "cross_val_score(never_4_clf, X_train, y_train_4, cv=3, scoring=\"accuracy\")"
   ],
   "metadata": {
    "collapsed": false,
    "pycharm": {
     "name": "#%%\n"
    }
   }
  },
  {
   "cell_type": "markdown",
   "source": [
    "It has over 90% accuracy, thid is only bevause only 10% of images are 4's so if you always guess not a 4 you will still be right 90% of the time.\n",
    "\n",
    "This shows accuracy is not the preffered performance metric for classifiers, especially when we deal with skewed datasets (i.e. datasets where some classes are more common than others)"
   ],
   "metadata": {
    "collapsed": false,
    "pycharm": {
     "name": "#%% md\n"
    }
   }
  },
  {
   "cell_type": "markdown",
   "source": [
    "### 3.2 Confusion Matrix\n",
    "\n",
    "Confusion matrix is a much better way to evaluate the performance of a classifier. The concept behind it is to count the number of instances of class A that are classified as class B. For example, to know the number of times the classifier confused images of 4 with images of 3 you would look in the 4th and 3rd column of the confusion matrix.\n",
    "\n",
    "To compute the confusion matrix first you need to have a set of predictions so that they can be compared to actual targets. You could make predictions on the test set, but lets keep it untouched for now (remember that you want to use the test set only t the end of the project, once you have a classifier that is ready to launch.\n",
    "Instead, you can use the **cross_val_predict()** function."
   ],
   "metadata": {
    "collapsed": false,
    "pycharm": {
     "name": "#%% md\n"
    }
   }
  },
  {
   "cell_type": "code",
   "execution_count": 26,
   "outputs": [],
   "source": [
    "from sklearn.model_selection import cross_val_predict\n",
    "y_train_pred = cross_val_predict(sgd_clf, X_train, y_train_4, cv=3)"
   ],
   "metadata": {
    "collapsed": false,
    "pycharm": {
     "name": "#%%\n"
    }
   }
  },
  {
   "cell_type": "markdown",
   "source": [
    "Just like the **cross_val_score()** function, **cross_val_predict()** performs K-fold cross_validation, but instead of returning the evaluation scores it returns the predictions made on each test fold. This means that you get a clean prediction for each instance in the training set (\"clean\" meaning prediction is made by a model that never saw the data during training).\n",
    "\n",
    "Now using this we can get the confusion matrix using the **confusion_matrix()** function by passing target class and predicted class."
   ],
   "metadata": {
    "collapsed": false,
    "pycharm": {
     "name": "#%% md\n"
    }
   }
  },
  {
   "cell_type": "code",
   "execution_count": 27,
   "outputs": [
    {
     "data": {
      "text/plain": "array([[52957,  1201],\n       [  554,  5288]])"
     },
     "execution_count": 27,
     "metadata": {},
     "output_type": "execute_result"
    }
   ],
   "source": [
    "from sklearn.metrics import confusion_matrix\n",
    "confusion_matrix(y_train_4, y_train_pred)"
   ],
   "metadata": {
    "collapsed": false,
    "pycharm": {
     "name": "#%%\n"
    }
   }
  },
  {
   "cell_type": "markdown",
   "source": [
    "Each row in a confusion matrix represents an actual class, while each column represents predicted class.\n",
    "\n",
    "The first row considers non-4 images (negative class): of which 52957 were correctly classified as non-4 these are called true negative while remaining 1201 were incorrectly identified as 4 which is called false positive.\n",
    "\n",
    "The second row considers images of 4 (positive class); of which 554 were wrongly classified as non-4 (false negative) and 5288 were correctly identified as 4s (true positive)\n",
    "\n",
    "A perfect classifier would only have true positives and true negatives, so its confusion matrix would have nonzero values on its main diagonal (top left to bottom right).\n",
    "\n",
    "The confusion matrix gives a lot of information, sometimes you may prefer a more concise metrix. An interesting one to look at is the accuracy of the positive predictions, this is called the precision of the classifier.\n",
    "\n",
    "Precision = TP/(TP + FP) [where TP is true positive and FP is false positive]\n",
    "\n",
    "A trivial way to have perfect precision is to make one single positive prediction and ensure it is correct (precision = 1/1 = 100%). This however is not useful as classifier would ignore all but one positive instance. So preicison is typically used with anotber metric named recall, also called sensitivity or the true positive rate (TPR) this is the ratio of positive instances that are correctly detected by classifier.\n",
    "\n",
    "Recall = TP/(TP + FN) [where TP is true positive and FN is false negative]"
   ],
   "metadata": {
    "collapsed": false,
    "pycharm": {
     "name": "#%% md\n"
    }
   }
  }
 ],
 "metadata": {
  "kernelspec": {
   "display_name": "Python 3",
   "language": "python",
   "name": "python3"
  },
  "language_info": {
   "codemirror_mode": {
    "name": "ipython",
    "version": 2
   },
   "file_extension": ".py",
   "mimetype": "text/x-python",
   "name": "python",
   "nbconvert_exporter": "python",
   "pygments_lexer": "ipython2",
   "version": "2.7.6"
  }
 },
 "nbformat": 4,
 "nbformat_minor": 0
}