{
 "cells": [
  {
   "cell_type": "markdown",
   "metadata": {
    "collapsed": true,
    "pycharm": {
     "name": "#%% md\n"
    }
   },
   "source": [
    "# Classification\n",
    "\n",
    "Classification in a supervised learning task along with regression. It is used in predicting classes i.e. it is used to predict categorical data.\n",
    "In this notebook the following topics will be covered: -\n",
    "1. Using MNIST Dataset\n",
    "2. Training a Binary Classifier\n",
    "3. Performance Measures\n",
    "4. Multiclass Classification\n",
    "5. Error Analysis\n",
    "6. Multilabel Classification\n",
    "7. Multioutput Classification"
   ]
  },
  {
   "cell_type": "markdown",
   "source": [
    "## 1. Using MNIST Dataset\n",
    "\n",
    "The dataset we will be using for classification is the MNIST dataset, which is a set of 70,000 small images of handwritten digits. Each image is labelled with the digit it represents. This dataset is often used as a way of seeing how new classification algorithms perform.\n",
    "\n",
    "Scikit-Learn provides many helper functions to download popular datasets. MNIST is one of them. The following code fetches the MNIST dataset."
   ],
   "metadata": {
    "collapsed": false,
    "pycharm": {
     "name": "#%% md\n"
    }
   }
  },
  {
   "cell_type": "code",
   "execution_count": 1,
   "outputs": [
    {
     "data": {
      "text/plain": "dict_keys(['data', 'target', 'frame', 'categories', 'feature_names', 'target_names', 'DESCR', 'details', 'url'])"
     },
     "execution_count": 1,
     "metadata": {},
     "output_type": "execute_result"
    }
   ],
   "source": [
    "from sklearn.datasets import fetch_openml\n",
    "\n",
    "# Used to fetch data from openml using the name or dataset id\n",
    "mnist = fetch_openml('mnist_784', version=1)\n",
    "mnist.keys()"
   ],
   "metadata": {
    "collapsed": false,
    "pycharm": {
     "name": "#%%\n"
    }
   }
  },
  {
   "cell_type": "markdown",
   "source": [
    "Datasets loaded by Scikit learn generally have a similar dictionary structure, including the following:\n",
    "* A **DESCR** key describing the dataset\n",
    "* A **data** key containing an array with one row per instance and one column per feature\n",
    "* A **target** key containing an array with the labels."
   ],
   "metadata": {
    "collapsed": false,
    "pycharm": {
     "name": "#%% md\n"
    }
   }
  },
  {
   "cell_type": "code",
   "execution_count": 2,
   "outputs": [
    {
     "data": {
      "text/plain": "((70000, 784), (70000,))"
     },
     "execution_count": 2,
     "metadata": {},
     "output_type": "execute_result"
    }
   ],
   "source": [
    "X, y = mnist[\"data\"], mnist[\"target\"]\n",
    "X.shape, y.shape"
   ],
   "metadata": {
    "collapsed": false,
    "pycharm": {
     "name": "#%%\n"
    }
   }
  },
  {
   "cell_type": "markdown",
   "source": [
    "This shows that there are 70,000 images and each image has 784 features. This is because each image has 28 * 28 pixels, and each feature represents the pixels' intensity.\n",
    "To see one image we will need to plot it as if we use it normally it will only give us the numeric values."
   ],
   "metadata": {
    "collapsed": false,
    "pycharm": {
     "name": "#%% md\n"
    }
   }
  },
  {
   "cell_type": "code",
   "execution_count": 3,
   "outputs": [
    {
     "data": {
      "text/plain": "<matplotlib.image.AxesImage at 0x7f82704a12e0>"
     },
     "execution_count": 3,
     "metadata": {},
     "output_type": "execute_result"
    },
    {
     "data": {
      "text/plain": "<Figure size 432x288 with 1 Axes>",
      "image/png": "[encoded data removed]"
     },
     "metadata": {
      "needs_background": "light"
     },
     "output_type": "display_data"
    }
   ],
   "source": [
    "import pandas as pd\n",
    "import numpy as np\n",
    "import matplotlib.pyplot as plt\n",
    "\n",
    "img = X.loc[0].to_numpy()\n",
    "img = img.reshape(28, 28)\n",
    "plt.imshow(img, cmap=\"binary\")"
   ],
   "metadata": {
    "collapsed": false,
    "pycharm": {
     "name": "#%%\n"
    }
   }
  },
  {
   "cell_type": "markdown",
   "source": [
    "This looks like a 5 and if we check our target it is indeed a 5"
   ],
   "metadata": {
    "collapsed": false,
    "pycharm": {
     "name": "#%% md\n"
    }
   }
  },
  {
   "cell_type": "code",
   "execution_count": 4,
   "outputs": [
    {
     "data": {
      "text/plain": "'5'"
     },
     "execution_count": 4,
     "metadata": {},
     "output_type": "execute_result"
    }
   ],
   "source": [
    "y[0]"
   ],
   "metadata": {
    "collapsed": false,
    "pycharm": {
     "name": "#%%\n"
    }
   }
  },
  {
   "cell_type": "markdown",
   "source": [
    "We need to convert this y to an integer in the following manner"
   ],
   "metadata": {
    "collapsed": false,
    "pycharm": {
     "name": "#%% md\n"
    }
   }
  },
  {
   "cell_type": "code",
   "execution_count": 5,
   "outputs": [
    {
     "data": {
      "text/plain": "5"
     },
     "execution_count": 5,
     "metadata": {},
     "output_type": "execute_result"
    }
   ],
   "source": [
    "y = y.astype(np.uint8)\n",
    "y[0]"
   ],
   "metadata": {
    "collapsed": false,
    "pycharm": {
     "name": "#%%\n"
    }
   }
  },
  {
   "cell_type": "markdown",
   "source": [
    "Let us now just create a function that we can use to view a random image from X"
   ],
   "metadata": {
    "collapsed": false,
    "pycharm": {
     "name": "#%% md\n"
    }
   }
  },
  {
   "cell_type": "code",
   "execution_count": 6,
   "outputs": [
    {
     "data": {
      "text/plain": "<Figure size 432x288 with 1 Axes>",
      "image/png": "[encoded data removed]"
     },
     "metadata": {
      "needs_background": "light"
     },
     "output_type": "display_data"
    }
   ],
   "source": [
    "import random\n",
    "\n",
    "def plot_random_digit():\n",
    "    num = random.randint(0, len(X))\n",
    "    random_img = X.loc[num].to_numpy()\n",
    "    random_img = random_img.reshape(28, 28)\n",
    "    plt.imshow(random_img, cmap=\"binary\")\n",
    "    plt.title(y[num])\n",
    "\n",
    "plot_random_digit()"
   ],
   "metadata": {
    "collapsed": false,
    "pycharm": {
     "name": "#%%\n"
    }
   }
  },
  {
   "cell_type": "markdown",
   "source": [
    "We need to now create our train and test set, MNIST already has shuffled the order for us normally this is not the case, and so we will have to do it ourselves however in this scenario we can use it directly.\n",
    "Shuffling is important as some learning algorithms are sensitive to the order of training instances and will perform poorly if they get many similar training instances in a row."
   ],
   "metadata": {
    "collapsed": false,
    "pycharm": {
     "name": "#%% md\n"
    }
   }
  },
  {
   "cell_type": "code",
   "execution_count": 7,
   "outputs": [
    {
     "data": {
      "text/plain": "(60000, 10000)"
     },
     "execution_count": 7,
     "metadata": {},
     "output_type": "execute_result"
    }
   ],
   "source": [
    "X_train, X_test, y_train, y_test = X[:60000], X[60000:], y[:60000], y[60000:]\n",
    "len(X_train), len(X_test)"
   ],
   "metadata": {
    "collapsed": false,
    "pycharm": {
     "name": "#%%\n"
    }
   }
  },
  {
   "cell_type": "markdown",
   "source": [
    "## 2. Training a Binary Classifier\n",
    "\n",
    "Let's simplify the problem for now and only try to identify one digit, for example the number 4. This 4 detector is an example of binary classification, capable of distinguishing between 2 classes, 4 and not-4.\n",
    "The target vector needs to first be updated."
   ],
   "metadata": {
    "collapsed": false,
    "pycharm": {
     "name": "#%% md\n"
    }
   }
  },
  {
   "cell_type": "code",
   "execution_count": 8,
   "outputs": [],
   "source": [
    "# This converts all values to either True or False depending on if it is 4\n",
    "y_train_4 = (y_train == 4)\n",
    "y_test_4 = (y_test == 4)"
   ],
   "metadata": {
    "collapsed": false,
    "pycharm": {
     "name": "#%%\n"
    }
   }
  },
  {
   "cell_type": "markdown",
   "source": [
    "Now we must choose a classifier and train it a good place tp start is with Stochastic Gradient Descent Classifier, using SciKit-Learn's **SGDClassifier** class.\n",
    "This classifier has the advantage of being capable of handling large datasets very efficiently. This is in part because SGD deals with training instances independently, one at a time\n",
    "(which also makes it suitable for online learning). We use it as follows: -"
   ],
   "metadata": {
    "collapsed": false,
    "pycharm": {
     "name": "#%% md\n"
    }
   }
  },
  {
   "cell_type": "code",
   "execution_count": 9,
   "outputs": [
    {
     "data": {
      "text/plain": "SGDClassifier(random_state=42)"
     },
     "execution_count": 9,
     "metadata": {},
     "output_type": "execute_result"
    }
   ],
   "source": [
    "from sklearn.linear_model import SGDClassifier\n",
    "\n",
    "# We use random state so that the results are reproducible\n",
    "sgd_clf = SGDClassifier(random_state=42)\n",
    "sgd_clf.fit(X_train, y_train_4)"
   ],
   "metadata": {
    "collapsed": false,
    "pycharm": {
     "name": "#%%\n"
    }
   }
  },
  {
   "cell_type": "markdown",
   "source": [
    "The SGD classifier relies on randomness during training and hence the name \"stochastic\".\n",
    "\n",
    "We can now use this model to detect images of 4."
   ],
   "metadata": {
    "collapsed": false,
    "pycharm": {
     "name": "#%% md\n"
    }
   }
  },
  {
   "cell_type": "code",
   "execution_count": 10,
   "outputs": [
    {
     "data": {
      "text/plain": "array([False])"
     },
     "execution_count": 10,
     "metadata": {},
     "output_type": "execute_result"
    }
   ],
   "source": [
    "img = X_train.loc[0]\n",
    "sgd_clf.predict([img])"
   ],
   "metadata": {
    "collapsed": false,
    "pycharm": {
     "name": "#%%\n"
    }
   }
  },
  {
   "cell_type": "markdown",
   "source": [
    "Let us visualise this models predictions by selecting an image at random, and plotting its prediction along with the actual label"
   ],
   "metadata": {
    "collapsed": false,
    "pycharm": {
     "name": "#%% md\n"
    }
   }
  },
  {
   "cell_type": "code",
   "execution_count": 11,
   "outputs": [
    {
     "data": {
      "text/plain": "<Figure size 432x288 with 1 Axes>",
      "image/png": "[encoded data removed]"
     },
     "metadata": {
      "needs_background": "light"
     },
     "output_type": "display_data"
    }
   ],
   "source": [
    "def plot_binary_prediction():\n",
    "    num = random.randint(0, len(X))\n",
    "    rand_img = X.loc[0]\n",
    "    img = rand_img.to_numpy()\n",
    "    img = img.reshape(28, 28)\n",
    "    y_4_pred = sgd_clf.predict([rand_img])\n",
    "    plt.imshow(img, cmap=\"binary\")\n",
    "    plt.title(f\"Actual Value: {y_train_4[num]}, Predicted Value: {y_4_pred[0]}\")\n",
    "\n",
    "plot_binary_prediction()"
   ],
   "metadata": {
    "collapsed": false,
    "pycharm": {
     "name": "#%%\n"
    }
   }
  },
  {
   "cell_type": "markdown",
   "source": [
    "## 3. Performance Measures\n",
    "\n",
    "Evaluating a classifier is significantly trickier than evaluating a regressor.\n",
    "This section will be broken up into the following subsections: -\n",
    "1. Measuring accuracy using cross-validation\n",
    "2. Confusion Matrix\n",
    "3. Precision and Recall\n",
    "4. Precision/Recall Tradeoff\n",
    "5. The ROC Curve"
   ],
   "metadata": {
    "collapsed": false,
    "pycharm": {
     "name": "#%% md\n"
    }
   }
  },
  {
   "cell_type": "markdown",
   "source": [
    "### 3.1 Measuring accuracy using Cross-Validation\n",
    "\n",
    "A good way to evaluate a model is to use cross-validation. Sometimes you may need to have more control over the cross validation proess than what Scikit-Learn provides. In these cases, you can implement it yourself.\n",
    "The program for cross validation will be given as one of the resources in this chapter.\n",
    "\n",
    "For now, we will use the cross_val_score() function to evaluate our **SGDClassifier** model, using K-fold cross-validation with three folds. Remember that K-fold cross-validation means splitting the training set into K folds (3 in this case), then making predictions and evaluating them on each fold using a model trained on the remaining folds."
   ],
   "metadata": {
    "collapsed": false,
    "pycharm": {
     "name": "#%% md\n"
    }
   }
  },
  {
   "cell_type": "code",
   "execution_count": 12,
   "outputs": [
    {
     "data": {
      "text/plain": "array([0.9671 , 0.97645, 0.9687 ])"
     },
     "execution_count": 12,
     "metadata": {},
     "output_type": "execute_result"
    }
   ],
   "source": [
    "from sklearn.model_selection import cross_val_score\n",
    "# cv is the number of folds\n",
    "cross_val_score(sgd_clf, X_train, y_train_4, cv=3, scoring=\"accuracy\")"
   ],
   "metadata": {
    "collapsed": false,
    "pycharm": {
     "name": "#%%\n"
    }
   }
  },
  {
   "cell_type": "markdown",
   "source": [
    "The reason the accuracy is as high as it is, is because the dataset is very skewed. Most of the samples are not 4 and hence if the model always guesses not 4 ie False it will yet get a high accuracy.\n",
    "To prove this lets look at a very basic classifier that predicts everything in the not-4 class."
   ],
   "metadata": {
    "collapsed": false,
    "pycharm": {
     "name": "#%% md\n"
    }
   }
  },
  {
   "cell_type": "code",
   "execution_count": 13,
   "outputs": [
    {
     "data": {
      "text/plain": "array([0.90275, 0.9018 , 0.90335])"
     },
     "execution_count": 13,
     "metadata": {},
     "output_type": "execute_result"
    }
   ],
   "source": [
    "from sklearn.base import BaseEstimator\n",
    "\n",
    "class Never4Classifier(BaseEstimator):\n",
    "    def fit(self, X, y=None):\n",
    "        pass\n",
    "\n",
    "    def predict(self, X):\n",
    "        return np.zeros((len(X), 1), dtype=bool)\n",
    "\n",
    "never_4_clf = Never4Classifier()\n",
    "cross_val_score(never_4_clf, X_train, y_train_4, cv=3, scoring=\"accuracy\")"
   ],
   "metadata": {
    "collapsed": false,
    "pycharm": {
     "name": "#%%\n"
    }
   }
  },
  {
   "cell_type": "markdown",
   "source": [
    "It has over 90% accuracy, thid is only bevause only 10% of images are 4's so if you always guess not a 4 you will still be right 90% of the time.\n",
    "\n",
    "This shows accuracy is not the preffered performance metric for classifiers, especially when we deal with skewed datasets (i.e. datasets where some classes are more common than others)"
   ],
   "metadata": {
    "collapsed": false,
    "pycharm": {
     "name": "#%% md\n"
    }
   }
  },
  {
   "cell_type": "markdown",
   "source": [
    "### 3.2 Confusion Matrix\n",
    "\n",
    "Confusion matrix is a much better way to evaluate the performance of a classifier. The concept behind it is to count the number of instances of class A that are classified as class B. For example, to know the number of times the classifier confused images of 4 with images of 3 you would look in the 4th and 3rd column of the confusion matrix.\n",
    "\n",
    "To compute the confusion matrix first you need to have a set of predictions so that they can be compared to actual targets. You could make predictions on the test set, but lets keep it untouched for now (remember that you want to use the test set only t the end of the project, once you have a classifier that is ready to launch.\n",
    "Instead, you can use the **cross_val_predict()** function."
   ],
   "metadata": {
    "collapsed": false,
    "pycharm": {
     "name": "#%% md\n"
    }
   }
  },
  {
   "cell_type": "code",
   "execution_count": 14,
   "outputs": [],
   "source": [
    "from sklearn.model_selection import cross_val_predict\n",
    "y_train_pred = cross_val_predict(sgd_clf, X_train, y_train_4, cv=3)"
   ],
   "metadata": {
    "collapsed": false,
    "pycharm": {
     "name": "#%%\n"
    }
   }
  },
  {
   "cell_type": "markdown",
   "source": [
    "Just like the **cross_val_score()** function, **cross_val_predict()** performs K-fold cross_validation, but instead of returning the evaluation scores it returns the predictions made on each test fold. This means that you get a clean prediction for each instance in the training set (\"clean\" meaning prediction is made by a model that never saw the data during training).\n",
    "\n",
    "Now using this we can get the confusion matrix using the **confusion_matrix()** function by passing target class and predicted class."
   ],
   "metadata": {
    "collapsed": false,
    "pycharm": {
     "name": "#%% md\n"
    }
   }
  },
  {
   "cell_type": "code",
   "execution_count": 15,
   "outputs": [
    {
     "data": {
      "text/plain": "array([[52957,  1201],\n       [  554,  5288]])"
     },
     "execution_count": 15,
     "metadata": {},
     "output_type": "execute_result"
    }
   ],
   "source": [
    "from sklearn.metrics import confusion_matrix\n",
    "confusion_matrix(y_train_4, y_train_pred)"
   ],
   "metadata": {
    "collapsed": false,
    "pycharm": {
     "name": "#%%\n"
    }
   }
  },
  {
   "cell_type": "markdown",
   "source": [
    "Each row in a confusion matrix represents an actual class, while each column represents predicted class.\n",
    "\n",
    "The first row considers non-4 images (negative class): of which 52957 were correctly classified as non-4 these are called true negative while remaining 1201 were incorrectly identified as 4 which is called false positive.\n",
    "\n",
    "The second row considers images of 4 (positive class); of which 554 were wrongly classified as non-4 (false negative) and 5288 were correctly identified as 4s (true positive)\n",
    "\n",
    "A perfect classifier would only have true positives and true negatives, so its confusion matrix would have nonzero values on its main diagonal (top left to bottom right).\n",
    "\n",
    "The confusion matrix gives a lot of information, sometimes you may prefer a more concise metrix. An interesting one to look at is the accuracy of the positive predictions, this is called the precision of the classifier.\n",
    "\n",
    "Precision = TP/(TP + FP) [where TP is true positive and FP is false positive]\n",
    "\n",
    "A trivial way to have perfect precision is to make one single positive prediction and ensure it is correct (precision = 1/1 = 100%). This however is not useful as classifier would ignore all but one positive instance. So preicison is typically used with anotber metric named recall, also called sensitivity or the true positive rate (TPR) this is the ratio of positive instances that are correctly detected by classifier.\n",
    "\n",
    "Recall = TP/(TP + FN) [where TP is true positive and FN is false negative]"
   ],
   "metadata": {
    "collapsed": false,
    "pycharm": {
     "name": "#%% md\n"
    }
   }
  },
  {
   "cell_type": "markdown",
   "source": [
    "### 3.3 Precision and Recall\n",
    "\n",
    "Scikit-Learn provides seberal functions to compute classifier metrics, including precision and recall."
   ],
   "metadata": {
    "collapsed": false,
    "pycharm": {
     "name": "#%% md\n"
    }
   }
  },
  {
   "cell_type": "code",
   "execution_count": 16,
   "outputs": [
    {
     "data": {
      "text/plain": "(0.8149175527816305, 0.905169462512838)"
     },
     "execution_count": 16,
     "metadata": {},
     "output_type": "execute_result"
    }
   ],
   "source": [
    "from sklearn.metrics import precision_score, recall_score\n",
    "precision_score(y_train_4, y_train_pred), recall_score(y_train_4, y_train_pred)"
   ],
   "metadata": {
    "collapsed": false,
    "pycharm": {
     "name": "#%%\n"
    }
   }
  },
  {
   "cell_type": "markdown",
   "source": [
    "Now your 5 detector does not look as shiny as it did when you looked at its accuracy. When it claims an image represents a 4, it is only correct 81% of the time. It also only detects 90% of the 4s.\n",
    "\n",
    "It is often convenient to combine precision and recall into a single metric called the F1 score, in particular if you need a simple way to compare two classifiers. The F1 score is the harmonic mean of precision and recall. Whereas the regular mean treats all values equally, the harmonic mean gives much more weight weight to low values. As a result the classifier will get an F1 score if both recall and precision are high.\n",
    "\n",
    "F1 = 2 * (precision * recall) / (precision + recall)\n",
    "\n",
    "To compute the F1 score simply call the function."
   ],
   "metadata": {
    "collapsed": false,
    "pycharm": {
     "name": "#%% md\n"
    }
   }
  },
  {
   "cell_type": "code",
   "execution_count": 17,
   "outputs": [
    {
     "data": {
      "text/plain": "0.8576757764982564"
     },
     "execution_count": 17,
     "metadata": {},
     "output_type": "execute_result"
    }
   ],
   "source": [
    "from sklearn.metrics import f1_score\n",
    "f1_score(y_train_4, y_train_pred)"
   ],
   "metadata": {
    "collapsed": false,
    "pycharm": {
     "name": "#%%\n"
    }
   }
  },
  {
   "cell_type": "markdown",
   "source": [
    "The F1 score favors classifiers that have similar precision and recall. This is not always what you want, in some cases you might favour precision and others you might want recall. For example if you trained a classifier to detect videos that are safe for kids you might prefer a classifier that rejects good videos (low recall) but keeps only safe ones (high precision), rather than a classifier that has a much higher recall but a few bad videos may show up. On the other hand suppose yu train a classifier to detect shoplifters, it is probably fine if classifier has only 30% precision as long as it has 99% recall. Unfortunately you cant have it both ways as increasing precision reduces recall and vice versa. This is called the **precision-recall tradeoff**."
   ],
   "metadata": {
    "collapsed": false,
    "pycharm": {
     "name": "#%% md\n"
    }
   }
  },
  {
   "cell_type": "markdown",
   "source": [
    "### 3.4 Precision/Recall Tradeoff\n",
    "\n",
    "TO understand this lets look at how the SGDClassifier makes it classification decisions. For each instance, it computes a score based on the decision function. If that score is greater than the threshold it assigns the instance to the positive class, otherwise negative.\n",
    "\n",
    "There may be various threshold for example:\n",
    "\n",
    "8 7 3 9 t1 5 2 5 t2 5 6 t3 5 5 5\n",
    "\n",
    "Here everything to the left of t1 is negative predictions and right of t3 is positive.\n",
    "\n",
    "IF we choose the threshold at t1 we get 75% precision and 100% recall, if we choose t2 we get 80% precision and 67% recall and t3 gives us 100% precision and 50% recall.\n",
    "As observed as we get a higher precision we get a lower recall.\n",
    "\n",
    "Scikit_learn does not let you set the threshold directly but it does give you access to the deciion scores that it uses to make predicittions. Instead of calling the classifiers predict() method, you can call its decision_function() method which returns a score for each instance, and then uses any threshold you want to make predictions based on those scores."
   ],
   "metadata": {
    "collapsed": false,
    "pycharm": {
     "name": "#%% md\n"
    }
   }
  },
  {
   "cell_type": "code",
   "execution_count": 25,
   "outputs": [
    {
     "data": {
      "text/plain": "array([3214.66574913])"
     },
     "execution_count": 25,
     "metadata": {},
     "output_type": "execute_result"
    }
   ],
   "source": [
    "some_digit = X.loc[2].to_numpy()\n",
    "y_scores = sgd_clf.decision_function([some_digit])\n",
    "y_scores"
   ],
   "metadata": {
    "collapsed": false,
    "pycharm": {
     "name": "#%%\n"
    }
   }
  },
  {
   "cell_type": "code",
   "execution_count": 26,
   "outputs": [
    {
     "data": {
      "text/plain": "array([ True])"
     },
     "execution_count": 26,
     "metadata": {},
     "output_type": "execute_result"
    }
   ],
   "source": [
    "threshold = 0\n",
    "y_some_digit_pred = (y_scores > threshold)\n",
    "y_some_digit_pred"
   ],
   "metadata": {
    "collapsed": false,
    "pycharm": {
     "name": "#%%\n"
    }
   }
  },
  {
   "cell_type": "markdown",
   "source": [
    "The SGD classifier uses a threshold equal to 0, so the previous code returns same result as the predict() method. LEts raise the threshold"
   ],
   "metadata": {
    "collapsed": false,
    "pycharm": {
     "name": "#%% md\n"
    }
   }
  },
  {
   "cell_type": "code",
   "execution_count": 27,
   "outputs": [
    {
     "data": {
      "text/plain": "array([False])"
     },
     "execution_count": 27,
     "metadata": {},
     "output_type": "execute_result"
    }
   ],
   "source": [
    "threshold = 8000\n",
    "y_some_digit_pred = (y_scores > threshold)\n",
    "y_some_digit_pred"
   ],
   "metadata": {
    "collapsed": false,
    "pycharm": {
     "name": "#%%\n"
    }
   }
  },
  {
   "cell_type": "markdown",
   "source": [
    "This confirms that raising the threshold decreases recall. THe image actually represents a 4 but the classifier detects when threshold is 0 and misses when it is set to 8000.\n",
    "\n",
    "How to decide which threshold to use? First use the cross_val_predict() function to get the scores of all instances in the training setm but this time specify that you want to return decision scores instead of predictions."
   ],
   "metadata": {
    "collapsed": false,
    "pycharm": {
     "name": "#%% md\n"
    }
   }
  },
  {
   "cell_type": "code",
   "execution_count": 28,
   "outputs": [],
   "source": [
    "y_scores = cross_val_predict(sgd_clf, X_train, y_train_4, cv=3, method=\"decision_function\")"
   ],
   "metadata": {
    "collapsed": false,
    "pycharm": {
     "name": "#%%\n"
    }
   }
  },
  {
   "cell_type": "markdown",
   "source": [
    "With these scores, use the precision_recall_curve() function to compute precision and recall for all ppossible thresholds"
   ],
   "metadata": {
    "collapsed": false,
    "pycharm": {
     "name": "#%% md\n"
    }
   }
  },
  {
   "cell_type": "code",
   "execution_count": 29,
   "outputs": [],
   "source": [
    "from sklearn.metrics import precision_recall_curve\n",
    "precisions, recalls, thresholds = precision_recall_curve(y_train_4, y_scores)"
   ],
   "metadata": {
    "collapsed": false,
    "pycharm": {
     "name": "#%%\n"
    }
   }
  },
  {
   "cell_type": "code",
   "execution_count": 30,
   "outputs": [
    {
     "data": {
      "text/plain": "<Figure size 432x288 with 1 Axes>",
      "image/png": "[encoded data removed]"
     },
     "metadata": {
      "needs_background": "light"
     },
     "output_type": "display_data"
    }
   ],
   "source": [
    "def plot_precision_recall_vs_threshold(precisions, recalls, thresholds):\n",
    "    plt.plot(thresholds, precisions[:-1], \"b--\", label=\"Precision\")\n",
    "    plt.plot(thresholds, recalls[:-1], \"g--\", label=\"Recall\")\n",
    "    plt.xlabel(\"Threshold\")\n",
    "    plt.legend()\n",
    "    plt.grid()\n",
    "\n",
    "plot_precision_recall_vs_threshold(precisions, recalls, thresholds)\n",
    "plt.show();"
   ],
   "metadata": {
    "collapsed": false,
    "pycharm": {
     "name": "#%%\n"
    }
   }
  },
  {
   "cell_type": "markdown",
   "source": [
    "The reason why the precision curve is bumpier than the recall curve is that the precision may sometimes go down when you raise the threshold althoguh in general it will go up. To understand why when u start to move from central threshold and move only one digit to the right precision goes from 80% down to 75% on the other hand recall can only go down when the threshold increased which is why it looks smooth.\n",
    "\n",
    "Another way to select a good precision/recall tradeoff is to plot precision directly against recall.\n",
    "You want to select a precision/recall tradeoff just before the drop."
   ],
   "metadata": {
    "collapsed": false
   }
  },
  {
   "cell_type": "code",
   "execution_count": 32,
   "outputs": [
    {
     "data": {
      "text/plain": "Text(0.5, 0, 'Precision')"
     },
     "execution_count": 32,
     "metadata": {},
     "output_type": "execute_result"
    },
    {
     "data": {
      "text/plain": "<Figure size 432x288 with 1 Axes>",
      "image/png": "[encoded data removed]"
     },
     "metadata": {
      "needs_background": "light"
     },
     "output_type": "display_data"
    }
   ],
   "source": [
    "plt.plot(recalls, precisions)\n",
    "plt.xlabel(\"Recall\")\n",
    "plt.ylabel(\"Precision\")"
   ],
   "metadata": {
    "collapsed": false,
    "pycharm": {
     "name": "#%%\n"
    }
   }
  },
  {
   "cell_type": "markdown",
   "source": [
    "Suppose you decide for a 90% precision. You look up the first plot and find that you need to use a threshold of about 8000. To be more precise you can search for the lowest threshold that will give you 90% precision. (np.argmax() will give you the first index of maximum value, which in this case is the first True value)"
   ],
   "metadata": {
    "collapsed": false,
    "pycharm": {
     "name": "#%% md\n"
    }
   }
  },
  {
   "cell_type": "code",
   "execution_count": 36,
   "outputs": [],
   "source": [
    "threshold_90_precision = thresholds[np.argmax(precisions >= 0.90)]"
   ],
   "metadata": {
    "collapsed": false,
    "pycharm": {
     "name": "#%%\n"
    }
   }
  },
  {
   "cell_type": "markdown",
   "source": [
    "To make predictions (on the training set for now), instead of calling the classifiers predict() method, you can run this code."
   ],
   "metadata": {
    "collapsed": false,
    "pycharm": {
     "name": "#%% md\n"
    }
   }
  },
  {
   "cell_type": "code",
   "execution_count": 37,
   "outputs": [],
   "source": [
    "y_train_pred_90 = (y_scores >= threshold_90_precision)"
   ],
   "metadata": {
    "collapsed": false,
    "pycharm": {
     "name": "#%%\n"
    }
   }
  },
  {
   "cell_type": "markdown",
   "source": [
    "Lets check these predictions precision and recall."
   ],
   "metadata": {
    "collapsed": false,
    "pycharm": {
     "name": "#%% md\n"
    }
   }
  },
  {
   "cell_type": "code",
   "execution_count": 38,
   "outputs": [
    {
     "data": {
      "text/plain": "(0.9001287474710318, 0.8377268058883944)"
     },
     "execution_count": 38,
     "metadata": {},
     "output_type": "execute_result"
    }
   ],
   "source": [
    "precision_score(y_train_4, y_train_pred_90), recall_score(y_train_4, y_train_pred_90)"
   ],
   "metadata": {
    "collapsed": false,
    "pycharm": {
     "name": "#%%\n"
    }
   }
  },
  {
   "cell_type": "markdown",
   "source": [
    "Now you have a 90% precision classifier. A high precision classifier is nt very useful if it has low recall."
   ],
   "metadata": {
    "collapsed": false,
    "pycharm": {
     "name": "#%% md\n"
    }
   }
  },
  {
   "cell_type": "markdown",
   "source": [
    "### 3.5 The ROC Curve\n",
    "\n",
    "The reciever operating characteristic (ROC) curve is another common tool used with binary classifiers. It is very similar to the precision recall curve but instead of plotting precision versus recall the ROC curve plots the true positive rate (another name for recall) against the false positive rate (FPR). THe FPR is the ratio of negative instances that are incorrectly classified as positive. It is equal to 1 - the true negative rate (TNR) which is the ratio of negative instances that are corrrectly classified as negative. The TNR is also called specificity. Hence the ROC curve plot sensitivity versus specificity.\n",
    "\n",
    "To plot the ROC curve, you first use te roc_curve() function to compute the TPR and FPR for various threshold values."
   ],
   "metadata": {
    "collapsed": false,
    "pycharm": {
     "name": "#%% md\n"
    }
   }
  },
  {
   "cell_type": "code",
   "execution_count": 39,
   "outputs": [],
   "source": [
    "from sklearn.metrics import roc_curve\n",
    "\n",
    "fpr, tpr, thresholds = roc_curve(y_train_4, y_scores)"
   ],
   "metadata": {
    "collapsed": false,
    "pycharm": {
     "name": "#%%\n"
    }
   }
  },
  {
   "cell_type": "markdown",
   "source": [
    "Then you can plot the FPR against the TPR using matplotlib."
   ],
   "metadata": {
    "collapsed": false,
    "pycharm": {
     "name": "#%% md\n"
    }
   }
  },
  {
   "cell_type": "code",
   "execution_count": 40,
   "outputs": [
    {
     "data": {
      "text/plain": "<Figure size 432x288 with 1 Axes>",
      "image/png": "[encoded data removed]"
     },
     "metadata": {
      "needs_background": "light"
     },
     "output_type": "display_data"
    }
   ],
   "source": [
    "def plot_roc_curve(fpr, tpr, label=None):\n",
    "    plt.plot(fpr, tpr, linewidth=2, label=label)\n",
    "    plt.plot([0,1], [0, 1], 'k--') # Dashed Diagonal\n",
    "    plt.xlabel(\"False Positive Rate\")\n",
    "    plt.ylabel(\"True Positive Rate\")\n",
    "    plt.grid()\n",
    "\n",
    "plot_roc_curve(fpr, tpr)\n",
    "plt.show()"
   ],
   "metadata": {
    "collapsed": false,
    "pycharm": {
     "name": "#%%\n"
    }
   }
  },
  {
   "cell_type": "markdown",
   "source": [
    "once again there is a tradeoff the higher the recall (TPR) the more false positives the classifier produces. The dotted line represents the ROC curve of a purely random classifier; a good classifier stays as far away from that line as possible (towards the top-left corner)\n",
    "\n",
    "One way to compare classifiers is to measure the are under curve (AUC). A prefect classifier will have ROC AUC equal to 1, were as a purely random classifier will have a ROC AUC equal to 0.5. Scikit-Learn provides a function to compute the ROC AUC."
   ],
   "metadata": {
    "collapsed": false,
    "pycharm": {
     "name": "#%% md\n"
    }
   }
  },
  {
   "cell_type": "code",
   "execution_count": 41,
   "outputs": [
    {
     "data": {
      "text/plain": "0.9859276923382874"
     },
     "execution_count": 41,
     "metadata": {},
     "output_type": "execute_result"
    }
   ],
   "source": [
    "from sklearn.metrics import roc_auc_score\n",
    "roc_auc_score(y_train_4, y_scores)"
   ],
   "metadata": {
    "collapsed": false,
    "pycharm": {
     "name": "#%%\n"
    }
   }
  },
  {
   "cell_type": "markdown",
   "source": [
    "Since the ROC curve is so similar to precision/recall curve you may wonder how to decide which one to use. As a rule of thumb you shuld prefer PR curve whenever the positive class is rare or when you care more about false positives than false negatives. Otherwise, use ROC curve.\n",
    "For example looking at previous ROC curve or ROC AUC score you may think classifier is really good but this is only because there are few positives compared to the negatives. In contrast, PR curve shows there is a lot of room for improvement.\n",
    "\n",
    "Lets train a RandomForestClassifier and compare its ROC curve and ROC AUC score to SGD classifier, First you need to get scores for each instance in training set. But due to the way it works it does not have a decision_function() method. INstead it has a predict_proba() method. Scikit-learn classifiers generally have one or both. This one returns an array containing a row per instance and a column per class each containing probability that the given instance belongs to a class."
   ],
   "metadata": {
    "collapsed": false,
    "pycharm": {
     "name": "#%% md\n"
    }
   }
  },
  {
   "cell_type": "code",
   "source": [
    "from sklearn.ensemble import RandomForestClassifier\n",
    "\n",
    "forest_clf = RandomForestClassifier(random_state=4)\n",
    "y_probsa_forest = cross_val_predict(forest_clf, X_train, y_train_4, cv=3, method=\"predict_proba\")"
   ],
   "metadata": {
    "collapsed": false,
    "pycharm": {
     "name": "#%%\n"
    }
   },
   "execution_count": 42,
   "outputs": []
  },
  {
   "cell_type": "markdown",
   "source": [
    "The roc_curve() function expects labels and scores but instead of scores you can give it class probabilities, Lets use the positive class probability as the score."
   ],
   "metadata": {
    "collapsed": false
   }
  },
  {
   "cell_type": "code",
   "execution_count": 43,
   "outputs": [],
   "source": [
    "y_scores_forest = y_probsa_forest[:, 1] # score = proba of positive class\n",
    "fpr_forest, tpr_forest, thresholds_forest = roc_curve(y_train_4, y_scores_forest)"
   ],
   "metadata": {
    "collapsed": false,
    "pycharm": {
     "name": "#%%\n"
    }
   }
  },
  {
   "cell_type": "markdown",
   "source": [
    "Now we can plot roc curve as see how they compare."
   ],
   "metadata": {
    "collapsed": false,
    "pycharm": {
     "name": "#%% md\n"
    }
   }
  },
  {
   "cell_type": "code",
   "execution_count": 45,
   "outputs": [
    {
     "data": {
      "text/plain": "<Figure size 432x288 with 1 Axes>",
      "image/png": "[encoded data removed]"
     },
     "metadata": {
      "needs_background": "light"
     },
     "output_type": "display_data"
    }
   ],
   "source": [
    "plt.plot(fpr, tpr, \"b:\", label=\"SGD\")\n",
    "plot_roc_curve(fpr_forest,tpr_forest,\"Random Forest\")\n",
    "plt.legend(loc=\"lower right\")\n",
    "plt.show();"
   ],
   "metadata": {
    "collapsed": false,
    "pycharm": {
     "name": "#%%\n"
    }
   }
  },
  {
   "cell_type": "markdown",
   "source": [
    "Comparing the ROC curves the Random FOrest Classifier is superior to SGD because the ROC curve is much closer to the top left corener and it has a greater AUC."
   ],
   "metadata": {
    "collapsed": false,
    "pycharm": {
     "name": "#%% md\n"
    }
   }
  },
  {
   "cell_type": "code",
   "execution_count": 46,
   "outputs": [
    {
     "data": {
      "text/plain": "0.9981869919348789"
     },
     "execution_count": 46,
     "metadata": {},
     "output_type": "execute_result"
    }
   ],
   "source": [
    "roc_auc_score(y_train_4, y_scores_forest)"
   ],
   "metadata": {
    "collapsed": false,
    "pycharm": {
     "name": "#%%\n"
    }
   }
  },
  {
   "cell_type": "markdown",
   "source": [
    "## 4. Multiclass Classification"
   ],
   "metadata": {
    "collapsed": false,
    "pycharm": {
     "name": "#%% md\n"
    }
   }
  }
 ],
 "metadata": {
  "kernelspec": {
   "display_name": "Python 3",
   "language": "python",
   "name": "python3"
  },
  "language_info": {
   "codemirror_mode": {
    "name": "ipython",
    "version": 2
   },
   "file_extension": ".py",
   "mimetype": "text/x-python",
   "name": "python",
   "nbconvert_exporter": "python",
   "pygments_lexer": "ipython2",
   "version": "2.7.6"
  }
 },
 "nbformat": 4,
 "nbformat_minor": 0
}