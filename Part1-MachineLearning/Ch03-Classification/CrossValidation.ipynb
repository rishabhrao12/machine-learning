{
 "cells": [
  {
   "cell_type": "markdown",
   "source": [
    "# Cross Validation Implementation\n",
    "\n",
    "Sometimes you may need more control over the cross-validation process, in these cases you will need an alternative to Scikit-Learn's cross_val_score function.\n",
    "The following code can be used as it roughly gives the same result.\n",
    "\n",
    "In the code given substitute the variables for the ones you have declared.\n",
    "For example, model will be substituted by sgd_clf in the classifier example"
   ],
   "metadata": {
    "collapsed": false
   }
  },
  {
   "cell_type": "code",
   "execution_count": null,
   "outputs": [],
   "source": [
    "'''\n",
    "\n",
    "from sklearn.model_selection import StratifiedKFold\n",
    "skfolds = StratifiedKFold(n_splits=3, random_state=4)\n",
    "\n",
    "for train_index, test_index in skfolds.split(X_train, y_train):\n",
    "    X_train_f = X_train[train_index]\n",
    "    y_train_f = y_train[train_index]\n",
    "    X_test_f = X_test[test_index]\n",
    "    y_test_f = y_test[test_index]\n",
    "\n",
    "    model.fit(X_train_f, y_train_f)\n",
    "    y_pred = model.predict(X_test_f)\n",
    "    num_correct_preds = sum(y_pred == y_test_f)\n",
    "    print(num_correct_preds / len(y_pred))\n",
    "\n",
    "'''"
   ],
   "metadata": {
    "collapsed": false,
    "pycharm": {
     "name": "#%%\n"
    }
   }
  }
 ],
 "metadata": {
  "kernelspec": {
   "display_name": "Python 3",
   "language": "python",
   "name": "python3"
  },
  "language_info": {
   "codemirror_mode": {
    "name": "ipython",
    "version": 2
   },
   "file_extension": ".py",
   "mimetype": "text/x-python",
   "name": "python",
   "nbconvert_exporter": "python",
   "pygments_lexer": "ipython2",
   "version": "2.7.6"
  }
 },
 "nbformat": 4,
 "nbformat_minor": 0
}