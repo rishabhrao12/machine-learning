{
 "cells": [
  {
   "attachments": {},
   "cell_type": "markdown",
   "metadata": {},
   "source": [
    "# Make Moons Decision Tree Assignment\n",
    "\n",
    "Task: \n",
    "Train and fine-tune a Decision Tree for the moons dataset by following the given steps: -\n",
    "* Use make_moons(n_samples=10000, noise=0.4) to generate a moons dataset.\n",
    "* Use train_test_split to split the datatset into a training and test set\n",
    "* Use grid search with cross validation with the help of GridSearchCv to find good hyperparameter values for our DecisionTreeClassifier (try using various values for the max_leaf_nodes hyperparameter)\n",
    "* Train it on the full training set using these hyperparameters and measure the models accuracy on the test set. Try to get an accuracy goal of 85-87%"
   ]
  },
  {
   "cell_type": "code",
   "execution_count": null,
   "metadata": {},
   "outputs": [],
   "source": []
  }
 ],
 "metadata": {
  "kernelspec": {
   "display_name": "Python 3",
   "language": "python",
   "name": "python3"
  },
  "language_info": {
   "name": "python",
   "version": "3.9.6"
  },
  "orig_nbformat": 4,
  "vscode": {
   "interpreter": {
    "hash": "c21c860ba4f99eaf1f4c1d1bf1f659aaa3719ca3820e22e11ff4cdb72ac18dca"
   }
  }
 },
 "nbformat": 4,
 "nbformat_minor": 2
}
