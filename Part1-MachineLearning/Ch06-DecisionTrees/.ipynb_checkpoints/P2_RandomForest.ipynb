{
 "cells": [
  {
   "attachments": {},
   "cell_type": "markdown",
   "metadata": {},
   "source": [
    "# Random Forest Assignment\n",
    "\n",
    "Task:\n",
    "Grow a forest by following the given steps: -\n",
    "* Continue the previous exercise, generate 1000 subsets of the training set, each containing 100 instances selected randomly. (Use sklearn ShuffleSplit class for this)\n",
    "* Train one Decision Tree on each subset, using the best hyperparameter values found in the previous exercise, Evaluate these 1000 Decision Trees on the test set. Since they were trained on smaller sets, they will likely perform worse than the first Decision Tree, achieving only about 80% accuracy.\n",
    "* For each test instance, generate the predictions of the 1000 Decision Trees and keep only the mosr frequent prediction (use SciPuy mode() function). This approach gives you majority vote predictions over the test set.\n",
    "* Evaluate these predictions on the test set: you should obtain a slightly higher accuracy than the first model (about 0.5 to 1.5% higher). This is your RandomForestClassifier!"
   ]
  },
  {
   "cell_type": "code",
   "execution_count": null,
   "metadata": {},
   "outputs": [],
   "source": []
  }
 ],
 "metadata": {
  "kernelspec": {
   "display_name": "Python 3",
   "language": "python",
   "name": "python3"
  },
  "language_info": {
   "name": "python",
   "version": "3.9.6"
  },
  "orig_nbformat": 4,
  "vscode": {
   "interpreter": {
    "hash": "c21c860ba4f99eaf1f4c1d1bf1f659aaa3719ca3820e22e11ff4cdb72ac18dca"
   }
  }
 },
 "nbformat": 4,
 "nbformat_minor": 2
}
