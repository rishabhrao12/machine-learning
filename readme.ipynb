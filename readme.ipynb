{
 "cells": [
  {
   "attachments": {},
   "cell_type": "markdown",
   "metadata": {},
   "source": [
    "\n",
    "| Sr. No | Chapter | Models Covered | Projects / Assignments |\n",
    "| --- | ----------- | ----------- | ----------- |\n",
    "| **Part 1**|  **Machine Learning** | | |\n",
    "| 1 | Introduction | - | - |\n",
    "| 2 | Basics | - | - |\n",
    "| 3 | Classification | SGDClassifier, SVC, KNN | MNIST, Titanic, Spam Classifier |\n",
    "| 4 | Regression | LinearRegression, SGDRegressor, RidgeRegression, LassoRegression, ElasticNet, LogisticRegression | Real Estate Prices, Medical Insurance |\n",
    "| 5 | SVM | LinearSVC, SVC, LinearSVR, SVR | MNIST, California Housing |\n",
    "| 6 | Decision Trees | DecisionTreeClassifier, DecisionTreeRegressor | Moons, Random Forest |\n",
    "| 7 | Ensemble Learning | | |\n",
    "| 8 | Dimensionality Reduction | | |\n",
    "| 9 | Unsupervised Learning | | |\n",
    "| 10 | Forecasting | ARIMA, SARIMA, SARIMAX, Prophet| |\n",
    "| 11 | Reinforcement Learning | | |\n",
    "| **Part 2**|  **Deep Learning** | |\n",
    "| 12 | Introduction | |\n",
    "| 13 | Deep Neural Networks | | |\n",
    "| 14 | Proccessing Data with Tensorflow | | |\n",
    "| 15 | Deep Computer Vision | CNN | |\n",
    "| 16 | Processing Sequences | CNN, RNN | |\n",
    "| 17  | Natural Language Processing | RNN | |\n",
    "| 18 | Representation and Generative Learning | GAN | |\n",
    "| 19 | Reinforcement Learning | | |\n",
    "| 20 | Deploying Models at Scale| | |\n",
    "| 21 | Forecasting | CNN, RNN, LSTM, N-BEATS | |"
   ]
  },
  {
   "cell_type": "code",
   "execution_count": null,
   "metadata": {},
   "outputs": [],
   "source": []
  }
 ],
 "metadata": {
  "kernelspec": {
   "display_name": "Python 3",
   "language": "python",
   "name": "python3"
  },
  "language_info": {
   "name": "python",
   "version": "3.9.6"
  },
  "orig_nbformat": 4,
  "vscode": {
   "interpreter": {
    "hash": "c21c860ba4f99eaf1f4c1d1bf1f659aaa3719ca3820e22e11ff4cdb72ac18dca"
   }
  }
 },
 "nbformat": 4,
 "nbformat_minor": 2
}
